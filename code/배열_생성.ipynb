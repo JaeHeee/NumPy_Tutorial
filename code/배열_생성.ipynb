{
  "nbformat": 4,
  "nbformat_minor": 0,
  "metadata": {
    "colab": {
      "name": "배열 생성.ipynb",
      "provenance": [],
      "authorship_tag": "ABX9TyPm45Pzrur2QWjCkLI9rAys",
      "include_colab_link": true
    },
    "kernelspec": {
      "name": "python3",
      "display_name": "Python 3"
    }
  },
  "cells": [
    {
      "cell_type": "markdown",
      "metadata": {
        "id": "view-in-github",
        "colab_type": "text"
      },
      "source": [
        "<a href=\"https://colab.research.google.com/github/JaeHeee/NumPy_Tutorial/blob/master/code/%EB%B0%B0%EC%97%B4_%EC%83%9D%EC%84%B1.ipynb\" target=\"_parent\"><img src=\"https://colab.research.google.com/assets/colab-badge.svg\" alt=\"Open In Colab\"/></a>"
      ]
    },
    {
      "cell_type": "markdown",
      "metadata": {
        "id": "Bd9GO_w1xz6e"
      },
      "source": [
        "# 배열 생성"
      ]
    },
    {
      "cell_type": "code",
      "metadata": {
        "id": "RHz4h6RCxpz7"
      },
      "source": [
        "## python2 와 3에 모두 호환되도록\n",
        "from __future__ import division, print_function"
      ],
      "execution_count": 31,
      "outputs": []
    },
    {
      "cell_type": "code",
      "metadata": {
        "id": "hLX_TF6c6r38"
      },
      "source": [
        "import numpy as np"
      ],
      "execution_count": 3,
      "outputs": []
    },
    {
      "cell_type": "markdown",
      "metadata": {
        "id": "gWFP6m547Jyz"
      },
      "source": [
        "#### np.zeros"
      ]
    },
    {
      "cell_type": "code",
      "metadata": {
        "colab": {
          "base_uri": "https://localhost:8080/"
        },
        "id": "oneKsKWT61Z2",
        "outputId": "6285e1a4-d0cd-4ee4-be3e-fb12bf12c04a"
      },
      "source": [
        "# 0 으로 채워진 배열 생성\n",
        "np.zeros(5)"
      ],
      "execution_count": 4,
      "outputs": [
        {
          "output_type": "execute_result",
          "data": {
            "text/plain": [
              "array([0., 0., 0., 0., 0.])"
            ]
          },
          "metadata": {
            "tags": []
          },
          "execution_count": 4
        }
      ]
    },
    {
      "cell_type": "code",
      "metadata": {
        "colab": {
          "base_uri": "https://localhost:8080/"
        },
        "id": "0t2oug2V68pL",
        "outputId": "c3cc8a06-1360-437d-a905-d0827943a41e"
      },
      "source": [
        "# 2D 배열(즉, 행렬)을 만들려면 원하는 행과 열의 크기를 튜플로 전달\n",
        "np.zeros((3,4))"
      ],
      "execution_count": 5,
      "outputs": [
        {
          "output_type": "execute_result",
          "data": {
            "text/plain": [
              "array([[0., 0., 0., 0.],\n",
              "       [0., 0., 0., 0.],\n",
              "       [0., 0., 0., 0.]])"
            ]
          },
          "metadata": {
            "tags": []
          },
          "execution_count": 5
        }
      ]
    },
    {
      "cell_type": "markdown",
      "metadata": {
        "id": "u0cqDIpFxz4E"
      },
      "source": [
        "### 용어"
      ]
    },
    {
      "cell_type": "markdown",
      "metadata": {
        "id": "EnWI5QlXxz2t"
      },
      "source": [
        "- 넘파이에서 각 차원을 축(axis) 이라고 한다.\n",
        "- 축의 개수를 랭크(rank) 라고 한다.\n",
        "- 3 x 4 행렬은 rank 2인 배열(즉 2차원)\n",
        "- 첫 번째 축의 길이는 3이고 두 번째 축의 길이는 4\n",
        "- 배열의 축 길이를 배열의 크기(shape)라고 합니다.\n",
        "- 위 행렬의 크기는 (3, 4)\n",
        "- rank는 크기의 길이와 같다.\n",
        "- 배열의 사이즈는 전체 원소의 개수이다. 축의 길이를 모두 곱해서 구할 수 있다."
      ]
    },
    {
      "cell_type": "code",
      "metadata": {
        "colab": {
          "base_uri": "https://localhost:8080/"
        },
        "id": "aj1DZeax72TF",
        "outputId": "8f6fb8c8-12d7-4e7f-815d-601828245fe6"
      },
      "source": [
        "a = np.zeros((3,4))\n",
        "a"
      ],
      "execution_count": 6,
      "outputs": [
        {
          "output_type": "execute_result",
          "data": {
            "text/plain": [
              "array([[0., 0., 0., 0.],\n",
              "       [0., 0., 0., 0.],\n",
              "       [0., 0., 0., 0.]])"
            ]
          },
          "metadata": {
            "tags": []
          },
          "execution_count": 6
        }
      ]
    },
    {
      "cell_type": "code",
      "metadata": {
        "colab": {
          "base_uri": "https://localhost:8080/"
        },
        "id": "2TLbDdIf74_B",
        "outputId": "cf426031-6177-40e6-e8b8-11184afe238c"
      },
      "source": [
        "a.shape"
      ],
      "execution_count": 7,
      "outputs": [
        {
          "output_type": "execute_result",
          "data": {
            "text/plain": [
              "(3, 4)"
            ]
          },
          "metadata": {
            "tags": []
          },
          "execution_count": 7
        }
      ]
    },
    {
      "cell_type": "code",
      "metadata": {
        "colab": {
          "base_uri": "https://localhost:8080/"
        },
        "id": "qfR3zlJS7534",
        "outputId": "bc3c2778-94e6-415c-d355-1a8550af72e9"
      },
      "source": [
        "a.ndim"
      ],
      "execution_count": 8,
      "outputs": [
        {
          "output_type": "execute_result",
          "data": {
            "text/plain": [
              "2"
            ]
          },
          "metadata": {
            "tags": []
          },
          "execution_count": 8
        }
      ]
    },
    {
      "cell_type": "code",
      "metadata": {
        "colab": {
          "base_uri": "https://localhost:8080/"
        },
        "id": "mPm6PHmc77Gy",
        "outputId": "347cddcc-578b-4972-9b68-820b27ee96c7"
      },
      "source": [
        "a.size"
      ],
      "execution_count": 9,
      "outputs": [
        {
          "output_type": "execute_result",
          "data": {
            "text/plain": [
              "12"
            ]
          },
          "metadata": {
            "tags": []
          },
          "execution_count": 9
        }
      ]
    },
    {
      "cell_type": "markdown",
      "metadata": {
        "id": "sLw4ZRY-78ty"
      },
      "source": [
        "### N-차원 배열"
      ]
    },
    {
      "cell_type": "code",
      "metadata": {
        "colab": {
          "base_uri": "https://localhost:8080/"
        },
        "id": "zyz-_JsM77tY",
        "outputId": "1a32cd62-ef91-4784-af0e-6c309c55cd22"
      },
      "source": [
        "# 크기가 (2,3,4)인 3D 배열(rank=3)\n",
        "np.zeros((2,3,4))"
      ],
      "execution_count": 10,
      "outputs": [
        {
          "output_type": "execute_result",
          "data": {
            "text/plain": [
              "array([[[0., 0., 0., 0.],\n",
              "        [0., 0., 0., 0.],\n",
              "        [0., 0., 0., 0.]],\n",
              "\n",
              "       [[0., 0., 0., 0.],\n",
              "        [0., 0., 0., 0.],\n",
              "        [0., 0., 0., 0.]]])"
            ]
          },
          "metadata": {
            "tags": []
          },
          "execution_count": 10
        }
      ]
    },
    {
      "cell_type": "markdown",
      "metadata": {
        "id": "mkAN-mhi8QWE"
      },
      "source": [
        "## 배열 타입"
      ]
    },
    {
      "cell_type": "code",
      "metadata": {
        "colab": {
          "base_uri": "https://localhost:8080/"
        },
        "id": "WHwzOMUC8PRO",
        "outputId": "ab079b12-fb24-4b15-ddfd-9c5dbede721d"
      },
      "source": [
        "# 넘파이 배열의 타입은 ndarray\n",
        "type(np.zeros((3,4)))"
      ],
      "execution_count": 11,
      "outputs": [
        {
          "output_type": "execute_result",
          "data": {
            "text/plain": [
              "numpy.ndarray"
            ]
          },
          "metadata": {
            "tags": []
          },
          "execution_count": 11
        }
      ]
    },
    {
      "cell_type": "markdown",
      "metadata": {
        "id": "_oufoXF98ay_"
      },
      "source": [
        "#### np.ones"
      ]
    },
    {
      "cell_type": "code",
      "metadata": {
        "colab": {
          "base_uri": "https://localhost:8080/"
        },
        "id": "hZtFfTfc8Y7b",
        "outputId": "b1282142-6b20-4da5-ddb5-04556281c5c2"
      },
      "source": [
        "# 1로 채워진 3x4 크기의 행렬\n",
        "np.ones((3,4))"
      ],
      "execution_count": 12,
      "outputs": [
        {
          "output_type": "execute_result",
          "data": {
            "text/plain": [
              "array([[1., 1., 1., 1.],\n",
              "       [1., 1., 1., 1.],\n",
              "       [1., 1., 1., 1.]])"
            ]
          },
          "metadata": {
            "tags": []
          },
          "execution_count": 12
        }
      ]
    },
    {
      "cell_type": "markdown",
      "metadata": {
        "id": "0CVVIqL68oqO"
      },
      "source": [
        "#### np.full"
      ]
    },
    {
      "cell_type": "code",
      "metadata": {
        "colab": {
          "base_uri": "https://localhost:8080/"
        },
        "id": "I5PJ0wxx8is9",
        "outputId": "e354fa08-fd77-4164-aa24-cfe0c0566186"
      },
      "source": [
        "# 주어진 값으로 지정된 크기의 배열을 초기화\n",
        "np.full((3,4), np.pi)"
      ],
      "execution_count": 13,
      "outputs": [
        {
          "output_type": "execute_result",
          "data": {
            "text/plain": [
              "array([[3.14159265, 3.14159265, 3.14159265, 3.14159265],\n",
              "       [3.14159265, 3.14159265, 3.14159265, 3.14159265],\n",
              "       [3.14159265, 3.14159265, 3.14159265, 3.14159265]])"
            ]
          },
          "metadata": {
            "tags": []
          },
          "execution_count": 13
        }
      ]
    },
    {
      "cell_type": "markdown",
      "metadata": {
        "id": "Wg3ZoKr881gd"
      },
      "source": [
        "#### np.empty"
      ]
    },
    {
      "cell_type": "code",
      "metadata": {
        "colab": {
          "base_uri": "https://localhost:8080/"
        },
        "id": "DtsZP2MK8yXK",
        "outputId": "d2d9089e-44e3-414b-be36-3731754bbed9"
      },
      "source": [
        "# 초기화되지 않은 2x3 크기의 배열 생성\n",
        "np.empty((2,3))"
      ],
      "execution_count": 15,
      "outputs": [
        {
          "output_type": "execute_result",
          "data": {
            "text/plain": [
              "array([[1.5136282e-316, 0.0000000e+000, 0.0000000e+000],\n",
              "       [0.0000000e+000, 0.0000000e+000, 0.0000000e+000]])"
            ]
          },
          "metadata": {
            "tags": []
          },
          "execution_count": 15
        }
      ]
    },
    {
      "cell_type": "markdown",
      "metadata": {
        "id": "rzunOHKd8_sh"
      },
      "source": [
        "### np.array"
      ]
    },
    {
      "cell_type": "code",
      "metadata": {
        "colab": {
          "base_uri": "https://localhost:8080/"
        },
        "id": "zTQfgHnG88Bm",
        "outputId": "a4dd3886-77ca-496d-e92f-4fcb5422791a"
      },
      "source": [
        "# array 함수는 파이썬 리스트를 사용하여 ndarray를 초기화\n",
        "np.array([[1,2,3,4],[10,20,30,40]])"
      ],
      "execution_count": 16,
      "outputs": [
        {
          "output_type": "execute_result",
          "data": {
            "text/plain": [
              "array([[ 1,  2,  3,  4],\n",
              "       [10, 20, 30, 40]])"
            ]
          },
          "metadata": {
            "tags": []
          },
          "execution_count": 16
        }
      ]
    },
    {
      "cell_type": "markdown",
      "metadata": {
        "id": "W2-f3DkU9Mp1"
      },
      "source": [
        "#### np.arange"
      ]
    },
    {
      "cell_type": "code",
      "metadata": {
        "colab": {
          "base_uri": "https://localhost:8080/"
        },
        "id": "kocJ-dtO9Lt6",
        "outputId": "b164e4b7-afd9-496c-ee5c-0781a9bbc80b"
      },
      "source": [
        "# 넘파이 range 함수를 사용하여 ndarray를 생성\n",
        "np.arange(1, 5)"
      ],
      "execution_count": 18,
      "outputs": [
        {
          "output_type": "execute_result",
          "data": {
            "text/plain": [
              "array([1, 2, 3, 4])"
            ]
          },
          "metadata": {
            "tags": []
          },
          "execution_count": 18
        }
      ]
    },
    {
      "cell_type": "code",
      "metadata": {
        "colab": {
          "base_uri": "https://localhost:8080/"
        },
        "id": "g-j7mht29XfE",
        "outputId": "dbdc35c0-5241-45db-ab38-fe77c6daac30"
      },
      "source": [
        "np.arange(1.0, 5.0)"
      ],
      "execution_count": 19,
      "outputs": [
        {
          "output_type": "execute_result",
          "data": {
            "text/plain": [
              "array([1., 2., 3., 4.])"
            ]
          },
          "metadata": {
            "tags": []
          },
          "execution_count": 19
        }
      ]
    },
    {
      "cell_type": "code",
      "metadata": {
        "colab": {
          "base_uri": "https://localhost:8080/"
        },
        "id": "xuB6Kh5J9a1Q",
        "outputId": "6b97859b-6cc3-464a-b6ec-8a072f5e75c8"
      },
      "source": [
        "np.arange(1, 5, 0.5)"
      ],
      "execution_count": 20,
      "outputs": [
        {
          "output_type": "execute_result",
          "data": {
            "text/plain": [
              "array([1. , 1.5, 2. , 2.5, 3. , 3.5, 4. , 4.5])"
            ]
          },
          "metadata": {
            "tags": []
          },
          "execution_count": 20
        }
      ]
    },
    {
      "cell_type": "code",
      "metadata": {
        "colab": {
          "base_uri": "https://localhost:8080/"
        },
        "id": "DJPNvD_S9dgm",
        "outputId": "2b9266f8-7a78-4cee-c7ec-2f37c6b7391d"
      },
      "source": [
        "# 부동 소수를 사용하면 원소의 개수가 일정하지 않을 수 있다.\n",
        "print(np.arange(0, 5/3, 1/3))\n",
        "print(np.arange(0, 5/3, 0.333333333))\n",
        "print(np.arange(0, 5/3, 0.333333334))"
      ],
      "execution_count": 21,
      "outputs": [
        {
          "output_type": "stream",
          "text": [
            "[0.         0.33333333 0.66666667 1.         1.33333333 1.66666667]\n",
            "[0.         0.33333333 0.66666667 1.         1.33333333 1.66666667]\n",
            "[0.         0.33333333 0.66666667 1.         1.33333334]\n"
          ],
          "name": "stdout"
        }
      ]
    },
    {
      "cell_type": "markdown",
      "metadata": {
        "id": "6K4SjPlf90Xa"
      },
      "source": [
        "#### np.linspace"
      ]
    },
    {
      "cell_type": "code",
      "metadata": {
        "colab": {
          "base_uri": "https://localhost:8080/"
        },
        "id": "pndl8JiI9xCj",
        "outputId": "6fdbb2ca-ddfb-4f1f-d7e6-a7371f817fc5"
      },
      "source": [
        "# 부동소수를 사용할 때는 위와 같은 상황때문에 arange 대신 linspace 함수를 사용하는 것이 좋다.\n",
        "# linspace 함수는 지정된 개수만큼 두 값 사이를 나눈 배열을 반환\n",
        "print(np.linspace(0, 5/3, 6))"
      ],
      "execution_count": 22,
      "outputs": [
        {
          "output_type": "stream",
          "text": [
            "[0.         0.33333333 0.66666667 1.         1.33333333 1.66666667]\n"
          ],
          "name": "stdout"
        }
      ]
    },
    {
      "cell_type": "markdown",
      "metadata": {
        "id": "NYe5cZK6-Y8u"
      },
      "source": [
        "#### np.rand, np.randn"
      ]
    },
    {
      "cell_type": "code",
      "metadata": {
        "colab": {
          "base_uri": "https://localhost:8080/"
        },
        "id": "R0yca8Ff-YEq",
        "outputId": "303d7dfa-eef5-4850-e8b9-fbc0b1043bda"
      },
      "source": [
        "# 균등 분포인 0 과 1사이의 랜덤한 부동 소수로 3x4 행렬\n",
        "np.random.rand(3,4)"
      ],
      "execution_count": 23,
      "outputs": [
        {
          "output_type": "execute_result",
          "data": {
            "text/plain": [
              "array([[0.39543239, 0.52943479, 0.17320298, 0.82919854],\n",
              "       [0.8625011 , 0.8144129 , 0.86789994, 0.17965187],\n",
              "       [0.46762088, 0.22883545, 0.04973434, 0.54616317]])"
            ]
          },
          "metadata": {
            "tags": []
          },
          "execution_count": 23
        }
      ]
    },
    {
      "cell_type": "code",
      "metadata": {
        "colab": {
          "base_uri": "https://localhost:8080/"
        },
        "id": "N_1H5wlV-owM",
        "outputId": "e6cd69e5-e37a-45b5-c446-d7ed11e092c1"
      },
      "source": [
        "# 평균이 0이고 분산이 1인 일변량 정규분포(가우시안 분포)에서 샘플링한 랜덤한 부동 소수를 담은 3x4 행렬\n",
        "np.random.randn(3,4)"
      ],
      "execution_count": 24,
      "outputs": [
        {
          "output_type": "execute_result",
          "data": {
            "text/plain": [
              "array([[ 1.05263097, -0.513437  , -0.81086423, -1.69525681],\n",
              "       [-0.34942831,  0.76880934,  1.52615852, -0.3509487 ],\n",
              "       [ 0.38110755,  0.36698944,  0.35114101, -0.11331267]])"
            ]
          },
          "metadata": {
            "tags": []
          },
          "execution_count": 24
        }
      ]
    },
    {
      "cell_type": "code",
      "metadata": {
        "colab": {
          "base_uri": "https://localhost:8080/",
          "height": 295
        },
        "id": "rrG2e34r-6Li",
        "outputId": "9b9ca19f-ef0f-4fd7-d7cf-3bc77a34e2be"
      },
      "source": [
        "%matplotlib inline\n",
        "import matplotlib.pyplot as plt\n",
        "\n",
        "plt.hist(np.random.rand(100000), density=True, bins=100, histtype=\"step\", color=\"blue\", label=\"rand\")\n",
        "plt.hist(np.random.randn(100000), density=True, bins=100, histtype=\"step\", color=\"red\", label=\"randn\")\n",
        "plt.axis([-2.5, 2.5, 0, 1.1])\n",
        "plt.legend(loc = \"upper left\")\n",
        "plt.title(\"Random distributions\")\n",
        "plt.xlabel(\"Value\")\n",
        "plt.ylabel(\"Density\")\n",
        "plt.show()"
      ],
      "execution_count": 34,
      "outputs": [
        {
          "output_type": "display_data",
          "data": {
            "image/png": "[encoded data removed]",
            "text/plain": [
              "<Figure size 432x288 with 1 Axes>"
            ]
          },
          "metadata": {
            "tags": [],
            "needs_background": "light"
          }
        }
      ]
    },
    {
      "cell_type": "markdown",
      "metadata": {
        "id": "L-rqXBAEAvXm"
      },
      "source": [
        "## np.fromfunction"
      ]
    },
    {
      "cell_type": "code",
      "metadata": {
        "colab": {
          "base_uri": "https://localhost:8080/"
        },
        "id": "N7wII4U6_gs7",
        "outputId": "e42e74e1-47a2-4289-c013-25d01cf9e42c"
      },
      "source": [
        "# 함수를 사용하여 ndarray를 초기화 가능\n",
        "# 넘파이는 먼저 크기가 (3, 2, 10)인 세 개의 ndarray를 만든다. 각 배열은 축을 따라 좌표 값과 같은 값을 가진다.\n",
        "\n",
        "# 예를들어 z 축에 있는 배열의 모든 원소는 z 축의 값과 같다.\n",
        "# [[[ 0. 0. 0. 0. 0. 0. 0. 0. 0. 0.]\n",
        "# [ 0. 0. 0. 0. 0. 0. 0. 0. 0. 0.]]\n",
        "\n",
        "# [[ 1. 1. 1. 1. 1. 1. 1. 1. 1. 1.]\n",
        "# [ 1. 1. 1. 1. 1. 1. 1. 1. 1. 1.]]\n",
        "\n",
        "# [[ 2. 2. 2. 2. 2. 2. 2. 2. 2. 2.]\n",
        "# [ 2. 2. 2. 2. 2. 2. 2. 2. 2. 2.]]]\n",
        "\n",
        "# x * y + z에서 x, y, z는 사실 ndarray이다. 함수 my_function이 원소마다 호출되는 것이 아니고 딱 한 번 호출되어 효율적으로 초기화할 수 있다.\n",
        "def my_function(z, y, x):\n",
        "    return x * y + z\n",
        "\n",
        "np.fromfunction(my_function, (3, 2, 10))"
      ],
      "execution_count": 37,
      "outputs": [
        {
          "output_type": "execute_result",
          "data": {
            "text/plain": [
              "array([[[ 0.,  0.,  0.,  0.,  0.,  0.,  0.,  0.,  0.,  0.],\n",
              "        [ 0.,  1.,  2.,  3.,  4.,  5.,  6.,  7.,  8.,  9.]],\n",
              "\n",
              "       [[ 1.,  1.,  1.,  1.,  1.,  1.,  1.,  1.,  1.,  1.],\n",
              "        [ 1.,  2.,  3.,  4.,  5.,  6.,  7.,  8.,  9., 10.]],\n",
              "\n",
              "       [[ 2.,  2.,  2.,  2.,  2.,  2.,  2.,  2.,  2.,  2.],\n",
              "        [ 2.,  3.,  4.,  5.,  6.,  7.,  8.,  9., 10., 11.]]])"
            ]
          },
          "metadata": {
            "tags": []
          },
          "execution_count": 37
        }
      ]
    },
    {
      "cell_type": "code",
      "metadata": {
        "id": "EdipLy6yBEwC"
      },
      "source": [
        ""
      ],
      "execution_count": null,
      "outputs": []
    }
  ]
}