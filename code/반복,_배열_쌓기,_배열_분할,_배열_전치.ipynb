{
  "nbformat": 4,
  "nbformat_minor": 0,
  "metadata": {
    "colab": {
      "name": "반복, 배열 쌓기, 배열 분할, 배열 전치.ipynb",
      "provenance": [],
      "authorship_tag": "ABX9TyP7aquBjs9oktp0j8ef9jz7",
      "include_colab_link": true
    },
    "kernelspec": {
      "name": "python3",
      "display_name": "Python 3"
    }
  },
  "cells": [
    {
      "cell_type": "markdown",
      "metadata": {
        "id": "view-in-github",
        "colab_type": "text"
      },
      "source": [
        "<a href=\"https://colab.research.google.com/github/JaeHeee/NumPy_Tutorial/blob/master/code/%EB%B0%98%EB%B3%B5%2C_%EB%B0%B0%EC%97%B4_%EC%8C%93%EA%B8%B0%2C_%EB%B0%B0%EC%97%B4_%EB%B6%84%ED%95%A0%2C_%EB%B0%B0%EC%97%B4_%EC%A0%84%EC%B9%98.ipynb\" target=\"_parent\"><img src=\"https://colab.research.google.com/assets/colab-badge.svg\" alt=\"Open In Colab\"/></a>"
      ]
    },
    {
      "cell_type": "markdown",
      "metadata": {
        "id": "zplRv6BnyuN_"
      },
      "source": [
        "# 반복, 배열 쌓기, 배열 분할, 배열 전치"
      ]
    },
    {
      "cell_type": "code",
      "metadata": {
        "id": "4j_L9sVizKqI"
      },
      "source": [
        "import numpy as np"
      ],
      "execution_count": 2,
      "outputs": []
    },
    {
      "cell_type": "markdown",
      "metadata": {
        "id": "NKCkjIpjy2xx"
      },
      "source": [
        "## 반복"
      ]
    },
    {
      "cell_type": "code",
      "metadata": {
        "colab": {
          "base_uri": "https://localhost:8080/"
        },
        "id": "lnjkUNOhyhEN",
        "outputId": "934c909c-5268-406e-9515-91fa5d2adb51"
      },
      "source": [
        "# ndarray를 반복하는 것은 일반적인 파이썬 배열을 반복하는 것과 매우 유사하다.\n",
        "# 다차원 배열을 반복하면 첫 번째 축에 대해서 수행\n",
        "# 3D 배열 (두 개의 3x4 행렬로 구성됨)\n",
        "c = np.arange(24).reshape(2, 3, 4)\n",
        "c"
      ],
      "execution_count": 3,
      "outputs": [
        {
          "output_type": "execute_result",
          "data": {
            "text/plain": [
              "array([[[ 0,  1,  2,  3],\n",
              "        [ 4,  5,  6,  7],\n",
              "        [ 8,  9, 10, 11]],\n",
              "\n",
              "       [[12, 13, 14, 15],\n",
              "        [16, 17, 18, 19],\n",
              "        [20, 21, 22, 23]]])"
            ]
          },
          "metadata": {
            "tags": []
          },
          "execution_count": 3
        }
      ]
    },
    {
      "cell_type": "code",
      "metadata": {
        "colab": {
          "base_uri": "https://localhost:8080/"
        },
        "id": "UbCnF0rAzInk",
        "outputId": "0a1ec25b-8133-4198-b9f5-c62ed350ad12"
      },
      "source": [
        "for m in c:\n",
        "    print(\"아이템:\")\n",
        "    print(m)"
      ],
      "execution_count": 4,
      "outputs": [
        {
          "output_type": "stream",
          "text": [
            "아이템:\n",
            "[[ 0  1  2  3]\n",
            " [ 4  5  6  7]\n",
            " [ 8  9 10 11]]\n",
            "아이템:\n",
            "[[12 13 14 15]\n",
            " [16 17 18 19]\n",
            " [20 21 22 23]]\n"
          ],
          "name": "stdout"
        }
      ]
    },
    {
      "cell_type": "code",
      "metadata": {
        "colab": {
          "base_uri": "https://localhost:8080/"
        },
        "id": "XkshNg6Cyu88",
        "outputId": "e267499a-3a13-4e98-e148-5e386c447b6b"
      },
      "source": [
        "for i in range(len(c)):\n",
        "    print(\"아이템:\")\n",
        "    print(c[i])"
      ],
      "execution_count": 5,
      "outputs": [
        {
          "output_type": "stream",
          "text": [
            "아이템:\n",
            "[[ 0  1  2  3]\n",
            " [ 4  5  6  7]\n",
            " [ 8  9 10 11]]\n",
            "아이템:\n",
            "[[12 13 14 15]\n",
            " [16 17 18 19]\n",
            " [20 21 22 23]]\n"
          ],
          "name": "stdout"
        }
      ]
    },
    {
      "cell_type": "code",
      "metadata": {
        "colab": {
          "base_uri": "https://localhost:8080/"
        },
        "id": "GvH-7xhwzYUe",
        "outputId": "1c4b574d-c1b9-4710-ea4f-6babc19072b1"
      },
      "source": [
        "# ndarray에 있는 모든 원소를 반복하려면 flat 속성을 사용\n",
        "for i in c.flat:\n",
        "    print(\"아이템:\", i)"
      ],
      "execution_count": 6,
      "outputs": [
        {
          "output_type": "stream",
          "text": [
            "아이템: 0\n",
            "아이템: 1\n",
            "아이템: 2\n",
            "아이템: 3\n",
            "아이템: 4\n",
            "아이템: 5\n",
            "아이템: 6\n",
            "아이템: 7\n",
            "아이템: 8\n",
            "아이템: 9\n",
            "아이템: 10\n",
            "아이템: 11\n",
            "아이템: 12\n",
            "아이템: 13\n",
            "아이템: 14\n",
            "아이템: 15\n",
            "아이템: 16\n",
            "아이템: 17\n",
            "아이템: 18\n",
            "아이템: 19\n",
            "아이템: 20\n",
            "아이템: 21\n",
            "아이템: 22\n",
            "아이템: 23\n"
          ],
          "name": "stdout"
        }
      ]
    },
    {
      "cell_type": "markdown",
      "metadata": {
        "id": "rruh8q6hzj6h"
      },
      "source": [
        "## 배열 쌓기"
      ]
    },
    {
      "cell_type": "code",
      "metadata": {
        "colab": {
          "base_uri": "https://localhost:8080/"
        },
        "id": "CaR4miKbziAA",
        "outputId": "7c6e6e6a-810a-485c-8721-581a0125ddc9"
      },
      "source": [
        "# 다른 배열을 쌓아야 하는 경우 넘파이는 이를 위해 몇 개의 함수를 제공\n",
        "q1 = np.full((3, 4), 1.0)\n",
        "q1"
      ],
      "execution_count": 7,
      "outputs": [
        {
          "output_type": "execute_result",
          "data": {
            "text/plain": [
              "array([[1., 1., 1., 1.],\n",
              "       [1., 1., 1., 1.],\n",
              "       [1., 1., 1., 1.]])"
            ]
          },
          "metadata": {
            "tags": []
          },
          "execution_count": 7
        }
      ]
    },
    {
      "cell_type": "code",
      "metadata": {
        "colab": {
          "base_uri": "https://localhost:8080/"
        },
        "id": "RPlwF12gzugU",
        "outputId": "316c45ea-bd35-4b21-ee9b-8c6ad431c479"
      },
      "source": [
        "q2 = np.full((4, 4), 2.0)\n",
        "q2"
      ],
      "execution_count": 8,
      "outputs": [
        {
          "output_type": "execute_result",
          "data": {
            "text/plain": [
              "array([[2., 2., 2., 2.],\n",
              "       [2., 2., 2., 2.],\n",
              "       [2., 2., 2., 2.],\n",
              "       [2., 2., 2., 2.]])"
            ]
          },
          "metadata": {
            "tags": []
          },
          "execution_count": 8
        }
      ]
    },
    {
      "cell_type": "code",
      "metadata": {
        "colab": {
          "base_uri": "https://localhost:8080/"
        },
        "id": "AqH9CrJazyI2",
        "outputId": "babc8762-4433-4d90-a46e-755056d72657"
      },
      "source": [
        "q3 = np.full((3, 4), 3.0)\n",
        "q3"
      ],
      "execution_count": 9,
      "outputs": [
        {
          "output_type": "execute_result",
          "data": {
            "text/plain": [
              "array([[3., 3., 3., 3.],\n",
              "       [3., 3., 3., 3.],\n",
              "       [3., 3., 3., 3.]])"
            ]
          },
          "metadata": {
            "tags": []
          },
          "execution_count": 9
        }
      ]
    },
    {
      "cell_type": "markdown",
      "metadata": {
        "id": "oXclZRj1z1np"
      },
      "source": [
        "#### vstack"
      ]
    },
    {
      "cell_type": "code",
      "metadata": {
        "colab": {
          "base_uri": "https://localhost:8080/"
        },
        "id": "_QnS6hJ2z0Pe",
        "outputId": "8aeb1e01-8ca5-49cc-c13e-3798d689162d"
      },
      "source": [
        "# vstack 함수를 사용하여 수직으로 쌓는다.\n",
        "# q1, q2, q3가 모두 같은 크기이므로 가능(수직으로 쌓기 때문에 수직 축은 크기가 달라도 된다.)\n",
        "q4 = np.vstack((q1, q2, q3))\n",
        "q4"
      ],
      "execution_count": 12,
      "outputs": [
        {
          "output_type": "execute_result",
          "data": {
            "text/plain": [
              "array([[1., 1., 1., 1.],\n",
              "       [1., 1., 1., 1.],\n",
              "       [1., 1., 1., 1.],\n",
              "       [2., 2., 2., 2.],\n",
              "       [2., 2., 2., 2.],\n",
              "       [2., 2., 2., 2.],\n",
              "       [2., 2., 2., 2.],\n",
              "       [3., 3., 3., 3.],\n",
              "       [3., 3., 3., 3.],\n",
              "       [3., 3., 3., 3.]])"
            ]
          },
          "metadata": {
            "tags": []
          },
          "execution_count": 12
        }
      ]
    },
    {
      "cell_type": "code",
      "metadata": {
        "colab": {
          "base_uri": "https://localhost:8080/"
        },
        "id": "KG52NBs2z9A9",
        "outputId": "1a489247-eb94-4bc6-d4ea-c66ef161a1b1"
      },
      "source": [
        "q4.shape"
      ],
      "execution_count": 13,
      "outputs": [
        {
          "output_type": "execute_result",
          "data": {
            "text/plain": [
              "(10, 4)"
            ]
          },
          "metadata": {
            "tags": []
          },
          "execution_count": 13
        }
      ]
    },
    {
      "cell_type": "markdown",
      "metadata": {
        "id": "X15jfsAm0Kqu"
      },
      "source": [
        "#### hstack"
      ]
    },
    {
      "cell_type": "code",
      "metadata": {
        "colab": {
          "base_uri": "https://localhost:8080/"
        },
        "id": "Af_ob_Y9z_Mu",
        "outputId": "359fb67d-e0f2-4dad-a4d1-bc7f443b4688"
      },
      "source": [
        "# hstack을 사용해 수평으로도 쌓을 수 있다.\n",
        "# q1과 q3가 모두 3개의 행을 가지고 있기 때문에 가능.\n",
        "q5 = np.hstack((q1, q3))\n",
        "q5"
      ],
      "execution_count": 14,
      "outputs": [
        {
          "output_type": "execute_result",
          "data": {
            "text/plain": [
              "array([[1., 1., 1., 1., 3., 3., 3., 3.],\n",
              "       [1., 1., 1., 1., 3., 3., 3., 3.],\n",
              "       [1., 1., 1., 1., 3., 3., 3., 3.]])"
            ]
          },
          "metadata": {
            "tags": []
          },
          "execution_count": 14
        }
      ]
    },
    {
      "cell_type": "code",
      "metadata": {
        "colab": {
          "base_uri": "https://localhost:8080/"
        },
        "id": "lzos2Yhm0S9E",
        "outputId": "316f97f8-b4ec-4a2b-b224-69161f124118"
      },
      "source": [
        "q5.shape"
      ],
      "execution_count": 15,
      "outputs": [
        {
          "output_type": "execute_result",
          "data": {
            "text/plain": [
              "(3, 8)"
            ]
          },
          "metadata": {
            "tags": []
          },
          "execution_count": 15
        }
      ]
    },
    {
      "cell_type": "code",
      "metadata": {
        "colab": {
          "base_uri": "https://localhost:8080/"
        },
        "id": "oJKsIPmi0UYj",
        "outputId": "92e8cc74-4537-4e24-80c5-3a204b461faf"
      },
      "source": [
        "# q2는 4개의 행을 가지고 있기 때문에 q1, q3와 수평으로 쌓을 수 없다.\n",
        "try:\n",
        "    q6 = np.hstack((q1, q2, q3))\n",
        "except ValueError as e:\n",
        "    print(e)"
      ],
      "execution_count": 17,
      "outputs": [
        {
          "output_type": "stream",
          "text": [
            "all the input array dimensions for the concatenation axis must match exactly, but along dimension 0, the array at index 0 has size 3 and the array at index 1 has size 4\n"
          ],
          "name": "stdout"
        }
      ]
    },
    {
      "cell_type": "markdown",
      "metadata": {
        "id": "gyI4_QP70sDN"
      },
      "source": [
        "#### concatenate"
      ]
    },
    {
      "cell_type": "code",
      "metadata": {
        "colab": {
          "base_uri": "https://localhost:8080/"
        },
        "id": "MU6vsEEE0pJm",
        "outputId": "68453f65-e95f-4823-b944-703fe63b77a3"
      },
      "source": [
        "# concatenate 함수는 지정한 축으로도 배열을 쌓는다.\n",
        "# vstack과 동일\n",
        "q7 = np.concatenate((q1, q2, q3), axis=0)\n",
        "q7"
      ],
      "execution_count": 18,
      "outputs": [
        {
          "output_type": "execute_result",
          "data": {
            "text/plain": [
              "array([[1., 1., 1., 1.],\n",
              "       [1., 1., 1., 1.],\n",
              "       [1., 1., 1., 1.],\n",
              "       [2., 2., 2., 2.],\n",
              "       [2., 2., 2., 2.],\n",
              "       [2., 2., 2., 2.],\n",
              "       [2., 2., 2., 2.],\n",
              "       [3., 3., 3., 3.],\n",
              "       [3., 3., 3., 3.],\n",
              "       [3., 3., 3., 3.]])"
            ]
          },
          "metadata": {
            "tags": []
          },
          "execution_count": 18
        }
      ]
    },
    {
      "cell_type": "code",
      "metadata": {
        "colab": {
          "base_uri": "https://localhost:8080/"
        },
        "id": "IjQoc3Ud071R",
        "outputId": "d15a1d44-cd25-4d82-e3f6-402a5925aeee"
      },
      "source": [
        "q7.shape"
      ],
      "execution_count": 19,
      "outputs": [
        {
          "output_type": "execute_result",
          "data": {
            "text/plain": [
              "(10, 4)"
            ]
          },
          "metadata": {
            "tags": []
          },
          "execution_count": 19
        }
      ]
    },
    {
      "cell_type": "markdown",
      "metadata": {
        "id": "qDFEUpu41GV8"
      },
      "source": [
        "hstack은 axis=1으로 concatenate를 호출하는 것과 같다."
      ]
    },
    {
      "cell_type": "markdown",
      "metadata": {
        "id": "3Xpne_jS1MqN"
      },
      "source": [
        "#### stack"
      ]
    },
    {
      "cell_type": "code",
      "metadata": {
        "colab": {
          "base_uri": "https://localhost:8080/"
        },
        "id": "eX6qrLkH0-Lc",
        "outputId": "e883a667-c4bc-4f5f-bdd8-34c8a1691b86"
      },
      "source": [
        "# stack 함수는 새로운 축을 따라 배열을 쌓는다. 모든 배열은 같은 크기를 가져야 한다.\n",
        "q8 = np.stack((q1, q3))\n",
        "q8"
      ],
      "execution_count": 20,
      "outputs": [
        {
          "output_type": "execute_result",
          "data": {
            "text/plain": [
              "array([[[1., 1., 1., 1.],\n",
              "        [1., 1., 1., 1.],\n",
              "        [1., 1., 1., 1.]],\n",
              "\n",
              "       [[3., 3., 3., 3.],\n",
              "        [3., 3., 3., 3.],\n",
              "        [3., 3., 3., 3.]]])"
            ]
          },
          "metadata": {
            "tags": []
          },
          "execution_count": 20
        }
      ]
    },
    {
      "cell_type": "code",
      "metadata": {
        "colab": {
          "base_uri": "https://localhost:8080/"
        },
        "id": "JoKpNXmf1buc",
        "outputId": "36d2b71b-bd53-4179-e88d-1b4b672e75b7"
      },
      "source": [
        "q8.shape"
      ],
      "execution_count": 21,
      "outputs": [
        {
          "output_type": "execute_result",
          "data": {
            "text/plain": [
              "(2, 3, 4)"
            ]
          },
          "metadata": {
            "tags": []
          },
          "execution_count": 21
        }
      ]
    },
    {
      "cell_type": "markdown",
      "metadata": {
        "id": "nLQW9C2M1hjg"
      },
      "source": [
        "## 배열 분할"
      ]
    },
    {
      "cell_type": "code",
      "metadata": {
        "colab": {
          "base_uri": "https://localhost:8080/"
        },
        "id": "XUQ0eBVN1g88",
        "outputId": "9d687b9e-be9f-41b1-9e16-dc5963dd18e4"
      },
      "source": [
        "# 분할은 쌓기의 반대\n",
        "r = np.arange(24).reshape(6, 4)\n",
        "r"
      ],
      "execution_count": 22,
      "outputs": [
        {
          "output_type": "execute_result",
          "data": {
            "text/plain": [
              "array([[ 0,  1,  2,  3],\n",
              "       [ 4,  5,  6,  7],\n",
              "       [ 8,  9, 10, 11],\n",
              "       [12, 13, 14, 15],\n",
              "       [16, 17, 18, 19],\n",
              "       [20, 21, 22, 23]])"
            ]
          },
          "metadata": {
            "tags": []
          },
          "execution_count": 22
        }
      ]
    },
    {
      "cell_type": "code",
      "metadata": {
        "colab": {
          "base_uri": "https://localhost:8080/"
        },
        "id": "4JnRyGyL1q1Q",
        "outputId": "a839f73d-dcae-4210-88e9-09ad14a6a844"
      },
      "source": [
        "# 수직으로 동일한 크기로 나눈다.\n",
        "r1, r2, r3 = np.vsplit(r, 3)\n",
        "r1"
      ],
      "execution_count": 23,
      "outputs": [
        {
          "output_type": "execute_result",
          "data": {
            "text/plain": [
              "array([[0, 1, 2, 3],\n",
              "       [4, 5, 6, 7]])"
            ]
          },
          "metadata": {
            "tags": []
          },
          "execution_count": 23
        }
      ]
    },
    {
      "cell_type": "code",
      "metadata": {
        "colab": {
          "base_uri": "https://localhost:8080/"
        },
        "id": "Wc2G4z9a1xXV",
        "outputId": "58596dc2-1cbb-4e24-b6ad-d9738a926b8e"
      },
      "source": [
        "r2"
      ],
      "execution_count": 24,
      "outputs": [
        {
          "output_type": "execute_result",
          "data": {
            "text/plain": [
              "array([[ 8,  9, 10, 11],\n",
              "       [12, 13, 14, 15]])"
            ]
          },
          "metadata": {
            "tags": []
          },
          "execution_count": 24
        }
      ]
    },
    {
      "cell_type": "code",
      "metadata": {
        "colab": {
          "base_uri": "https://localhost:8080/"
        },
        "id": "T1tAC9MC1ztJ",
        "outputId": "b63697fc-7b3b-4825-dc52-139e8d95ef07"
      },
      "source": [
        "r3"
      ],
      "execution_count": 25,
      "outputs": [
        {
          "output_type": "execute_result",
          "data": {
            "text/plain": [
              "array([[16, 17, 18, 19],\n",
              "       [20, 21, 22, 23]])"
            ]
          },
          "metadata": {
            "tags": []
          },
          "execution_count": 25
        }
      ]
    },
    {
      "cell_type": "code",
      "metadata": {
        "colab": {
          "base_uri": "https://localhost:8080/"
        },
        "id": "8iLSZHS-10Wi",
        "outputId": "a24ce9f1-1354-4a27-aa56-0e4d7532a085"
      },
      "source": [
        "# split 함수는 주어진 축을 따라 배열을 분할한다.\n",
        "# vsplit은 axis=0으로 split을 호출하는 것과 같다.\n",
        "# hsplit은 axis=1로 split을 호출하는 것과 같다.\n",
        "r4, r5 = np.hsplit(r, 2)\n",
        "r4"
      ],
      "execution_count": 26,
      "outputs": [
        {
          "output_type": "execute_result",
          "data": {
            "text/plain": [
              "array([[ 0,  1],\n",
              "       [ 4,  5],\n",
              "       [ 8,  9],\n",
              "       [12, 13],\n",
              "       [16, 17],\n",
              "       [20, 21]])"
            ]
          },
          "metadata": {
            "tags": []
          },
          "execution_count": 26
        }
      ]
    },
    {
      "cell_type": "markdown",
      "metadata": {
        "id": "cBw6OX7V2J0C"
      },
      "source": [
        "## 배열 전치"
      ]
    },
    {
      "cell_type": "code",
      "metadata": {
        "colab": {
          "base_uri": "https://localhost:8080/"
        },
        "id": "AEljpt4s2Hv-",
        "outputId": "6a5f5423-ac27-4760-a836-d4577ef64cb6"
      },
      "source": [
        "# transpose 메서드는 주어진 순서대로 축을 뒤바꾸어 ndarray 데이터에 대한 새로운 뷰를 만든다.\n",
        "t = np.arange(24).reshape(4, 2, 3)\n",
        "t"
      ],
      "execution_count": 27,
      "outputs": [
        {
          "output_type": "execute_result",
          "data": {
            "text/plain": [
              "array([[[ 0,  1,  2],\n",
              "        [ 3,  4,  5]],\n",
              "\n",
              "       [[ 6,  7,  8],\n",
              "        [ 9, 10, 11]],\n",
              "\n",
              "       [[12, 13, 14],\n",
              "        [15, 16, 17]],\n",
              "\n",
              "       [[18, 19, 20],\n",
              "        [21, 22, 23]]])"
            ]
          },
          "metadata": {
            "tags": []
          },
          "execution_count": 27
        }
      ]
    },
    {
      "cell_type": "code",
      "metadata": {
        "colab": {
          "base_uri": "https://localhost:8080/"
        },
        "id": "CI7wF17s2wUd",
        "outputId": "1e8b72ad-1481-44e8-a30e-cb8ecd0f2c0a"
      },
      "source": [
        "# 0, 1, 2(깊이, 높이, 너비)축을 1, 2, 0(깊이 -> 너비, 높이 -> 깊이, 너비 -> 높이) 순서로 바꾼 ndarray\n",
        "t1 = t.transpose((1, 2, 0))\n",
        "t1"
      ],
      "execution_count": 29,
      "outputs": [
        {
          "output_type": "stream",
          "text": [
            "(2, 3, 4)\n"
          ],
          "name": "stdout"
        },
        {
          "output_type": "execute_result",
          "data": {
            "text/plain": [
              "array([[[ 0,  6, 12, 18],\n",
              "        [ 1,  7, 13, 19],\n",
              "        [ 2,  8, 14, 20]],\n",
              "\n",
              "       [[ 3,  9, 15, 21],\n",
              "        [ 4, 10, 16, 22],\n",
              "        [ 5, 11, 17, 23]]])"
            ]
          },
          "metadata": {
            "tags": []
          },
          "execution_count": 29
        }
      ]
    },
    {
      "cell_type": "code",
      "metadata": {
        "colab": {
          "base_uri": "https://localhost:8080/"
        },
        "id": "7oNlB5D32-lS",
        "outputId": "3166a999-c5f7-41fa-b170-095ef69fe87b"
      },
      "source": [
        "t1.shape"
      ],
      "execution_count": 30,
      "outputs": [
        {
          "output_type": "execute_result",
          "data": {
            "text/plain": [
              "(2, 3, 4)"
            ]
          },
          "metadata": {
            "tags": []
          },
          "execution_count": 30
        }
      ]
    },
    {
      "cell_type": "code",
      "metadata": {
        "colab": {
          "base_uri": "https://localhost:8080/"
        },
        "id": "MOwKvbbk3jug",
        "outputId": "17372bad-bc6a-438a-f538-f53d32d7146d"
      },
      "source": [
        "# t.transpose((2, 1, 0)) 와 동일\n",
        "t2 = t.transpose()\n",
        "t2"
      ],
      "execution_count": 31,
      "outputs": [
        {
          "output_type": "execute_result",
          "data": {
            "text/plain": [
              "array([[[ 0,  6, 12, 18],\n",
              "        [ 3,  9, 15, 21]],\n",
              "\n",
              "       [[ 1,  7, 13, 19],\n",
              "        [ 4, 10, 16, 22]],\n",
              "\n",
              "       [[ 2,  8, 14, 20],\n",
              "        [ 5, 11, 17, 23]]])"
            ]
          },
          "metadata": {
            "tags": []
          },
          "execution_count": 31
        }
      ]
    },
    {
      "cell_type": "code",
      "metadata": {
        "colab": {
          "base_uri": "https://localhost:8080/"
        },
        "id": "XUoqmJiO3qkF",
        "outputId": "bcdbcb97-afac-4e6e-b583-1320d0a1532f"
      },
      "source": [
        "t2.shape"
      ],
      "execution_count": 32,
      "outputs": [
        {
          "output_type": "execute_result",
          "data": {
            "text/plain": [
              "(3, 2, 4)"
            ]
          },
          "metadata": {
            "tags": []
          },
          "execution_count": 32
        }
      ]
    },
    {
      "cell_type": "code",
      "metadata": {
        "colab": {
          "base_uri": "https://localhost:8080/"
        },
        "id": "9MycwsLu3rhC",
        "outputId": "8a5eddc5-42e9-44c3-8286-97db6535d8fc"
      },
      "source": [
        "# 넘파이는 두 축을 바꾸는 swapaxes 함수를 제공\n",
        "# t.transpose((1, 0 , 2))와 동일\n",
        "t3 = t.swapaxes(0, 1)\n",
        "t3"
      ],
      "execution_count": 33,
      "outputs": [
        {
          "output_type": "execute_result",
          "data": {
            "text/plain": [
              "array([[[ 0,  1,  2],\n",
              "        [ 6,  7,  8],\n",
              "        [12, 13, 14],\n",
              "        [18, 19, 20]],\n",
              "\n",
              "       [[ 3,  4,  5],\n",
              "        [ 9, 10, 11],\n",
              "        [15, 16, 17],\n",
              "        [21, 22, 23]]])"
            ]
          },
          "metadata": {
            "tags": []
          },
          "execution_count": 33
        }
      ]
    },
    {
      "cell_type": "code",
      "metadata": {
        "colab": {
          "base_uri": "https://localhost:8080/"
        },
        "id": "vjrpT8lf31_t",
        "outputId": "abfb5c92-0bff-4aa5-8806-3e04677538f0"
      },
      "source": [
        "t3.shape"
      ],
      "execution_count": 34,
      "outputs": [
        {
          "output_type": "execute_result",
          "data": {
            "text/plain": [
              "(2, 4, 3)"
            ]
          },
          "metadata": {
            "tags": []
          },
          "execution_count": 34
        }
      ]
    }
  ]
}