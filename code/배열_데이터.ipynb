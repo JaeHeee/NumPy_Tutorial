{
  "nbformat": 4,
  "nbformat_minor": 0,
  "metadata": {
    "colab": {
      "name": "배열 데이터.ipynb",
      "provenance": [],
      "authorship_tag": "ABX9TyM02j7aSl5z1oyGWtS8a29m",
      "include_colab_link": true
    },
    "kernelspec": {
      "name": "python3",
      "display_name": "Python 3"
    }
  },
  "cells": [
    {
      "cell_type": "markdown",
      "metadata": {
        "id": "view-in-github",
        "colab_type": "text"
      },
      "source": [
        "<a href=\"https://colab.research.google.com/github/JaeHeee/NumPy_Tutorial/blob/master/code/%EB%B0%B0%EC%97%B4_%EB%8D%B0%EC%9D%B4%ED%84%B0.ipynb\" target=\"_parent\"><img src=\"https://colab.research.google.com/assets/colab-badge.svg\" alt=\"Open In Colab\"/></a>"
      ]
    },
    {
      "cell_type": "markdown",
      "metadata": {
        "id": "9koZOCPkBLFN"
      },
      "source": [
        "# 배열 데이터"
      ]
    },
    {
      "cell_type": "code",
      "metadata": {
        "id": "qpKi-JuQBlyc"
      },
      "source": [
        "import numpy as np"
      ],
      "execution_count": 2,
      "outputs": []
    },
    {
      "cell_type": "markdown",
      "metadata": {
        "id": "k_aSevzXBNB4"
      },
      "source": [
        "#### dtype"
      ]
    },
    {
      "cell_type": "code",
      "metadata": {
        "colab": {
          "base_uri": "https://localhost:8080/"
        },
        "id": "9Mf2f4XdBC4u",
        "outputId": "9d57279b-d3e3-4d42-b2e1-3aeec217d635"
      },
      "source": [
        "# 넘파이의 ndarray는 모든 원소가 동일한 타입(보통 숫자)을 가지기 때문에 효율적\n",
        "# dtype 속성으로 쉽게 데이터 타입을 확인\n",
        "c = np.arange(1, 5)\n",
        "print(c.dtype, c)"
      ],
      "execution_count": 5,
      "outputs": [
        {
          "output_type": "stream",
          "text": [
            "int64 [1 2 3 4]\n"
          ],
          "name": "stdout"
        }
      ]
    },
    {
      "cell_type": "code",
      "metadata": {
        "colab": {
          "base_uri": "https://localhost:8080/"
        },
        "id": "R5VZINwkBhLQ",
        "outputId": "161b0479-2824-4d0d-bca2-e38cac435d4a"
      },
      "source": [
        "c = np.arange(1.0, 5.0)\n",
        "print(c.dtype, c)"
      ],
      "execution_count": 6,
      "outputs": [
        {
          "output_type": "stream",
          "text": [
            "float64 [1. 2. 3. 4.]\n"
          ],
          "name": "stdout"
        }
      ]
    },
    {
      "cell_type": "code",
      "metadata": {
        "colab": {
          "base_uri": "https://localhost:8080/"
        },
        "id": "OWR7nJbZCPhm",
        "outputId": "f7867c90-fa28-4522-e31f-037746218202"
      },
      "source": [
        "# 넘파이가 데이터 타입을 결정하도록 내버려두는 대신 dtype 매개변수를 사용해서 배열을 만들 때 명시적으로 지정할 수 있다.\n",
        "# 가능한 데이터 타입은 nt8, int16, int32, int64, uint8|16|32|64, float16|32|64, complex64|128가 있다.\n",
        "d = np.arange(1, 5, dtype=np.complex64)\n",
        "print(d.dtype, d)"
      ],
      "execution_count": 7,
      "outputs": [
        {
          "output_type": "stream",
          "text": [
            "complex64 [1.+0.j 2.+0.j 3.+0.j 4.+0.j]\n"
          ],
          "name": "stdout"
        }
      ]
    },
    {
      "cell_type": "markdown",
      "metadata": {
        "id": "HW8ITv1mBPXQ"
      },
      "source": [
        "#### itemsize"
      ]
    },
    {
      "cell_type": "code",
      "metadata": {
        "colab": {
          "base_uri": "https://localhost:8080/"
        },
        "id": "Bvr-TlfBCTGy",
        "outputId": "8d9192e0-cc74-478c-bfbd-473c2ca077fb"
      },
      "source": [
        "# itemsize 속성은 각 아이템의 크기(바이트)를 반환\n",
        "e = np.arange(1, 5, dtype=np.complex64)\n",
        "e.itemsize"
      ],
      "execution_count": 8,
      "outputs": [
        {
          "output_type": "execute_result",
          "data": {
            "text/plain": [
              "8"
            ]
          },
          "metadata": {
            "tags": []
          },
          "execution_count": 8
        }
      ]
    }
  ]
}