{
  "nbformat": 4,
  "nbformat_minor": 0,
  "metadata": {
    "colab": {
      "name": "산술 연산, 브로드캐스팅.ipynb",
      "provenance": [],
      "authorship_tag": "ABX9TyMcXFiY+im8rwJ9/P7Mx0iF",
      "include_colab_link": true
    },
    "kernelspec": {
      "name": "python3",
      "display_name": "Python 3"
    }
  },
  "cells": [
    {
      "cell_type": "markdown",
      "metadata": {
        "id": "view-in-github",
        "colab_type": "text"
      },
      "source": [
        "<a href=\"https://colab.research.google.com/github/JaeHeee/NumPy_Tutorial/blob/master/code/%EC%82%B0%EC%88%A0_%EC%97%B0%EC%82%B0%2C_%EB%B8%8C%EB%A1%9C%EB%93%9C%EC%BA%90%EC%8A%A4%ED%8C%85.ipynb\" target=\"_parent\"><img src=\"https://colab.research.google.com/assets/colab-badge.svg\" alt=\"Open In Colab\"/></a>"
      ]
    },
    {
      "cell_type": "markdown",
      "metadata": {
        "id": "h--IpN24p8YA"
      },
      "source": [
        "# 산술 연산, 브로드캐스팅"
      ]
    },
    {
      "cell_type": "code",
      "metadata": {
        "id": "iWkzDcT2p3HK"
      },
      "source": [
        "import numpy as np"
      ],
      "execution_count": 1,
      "outputs": []
    },
    {
      "cell_type": "markdown",
      "metadata": {
        "id": "X1BR7gEMqELq"
      },
      "source": [
        "## 산술 연산"
      ]
    },
    {
      "cell_type": "code",
      "metadata": {
        "colab": {
          "base_uri": "https://localhost:8080/"
        },
        "id": "lnPMlPP8qA_z",
        "outputId": "27240931-ad7b-49d7-8953-0fa79b01eb4c"
      },
      "source": [
        "# 일반적인 산술 연산자(+, -, *, /, //, ** 등)는 모두 ndarray와 사용할 수 있다.\n",
        "# 배열의 크기는 같아야 한다. 그렇지 않으면 넘파이가 브로드캐스팅 규칙을 적용한다.\n",
        "a = np.array([14, 23, 32, 41])\n",
        "b = np.array([5, 4, 3, 2])\n",
        "print(\"a + b =\", a + b)\n",
        "print(\"a - b =\", a - b)\n",
        "print(\"a * b =\", a * b)\n",
        "print(\"a / b =\", a / b)\n",
        "print(\"a // b =\", a // b)\n",
        "print(\"a % b =\", a % b)\n",
        "print(\"a ** b =\", a ** b)"
      ],
      "execution_count": 2,
      "outputs": [
        {
          "output_type": "stream",
          "text": [
            "a + b = [19 27 35 43]\n",
            "a - b = [ 9 19 29 39]\n",
            "a * b = [70 92 96 82]\n",
            "a / b = [ 2.8         5.75       10.66666667 20.5       ]\n",
            "a // b = [ 2  5 10 20]\n",
            "a % b = [4 3 2 1]\n",
            "a ** b = [537824 279841  32768   1681]\n"
          ],
          "name": "stdout"
        }
      ]
    },
    {
      "cell_type": "markdown",
      "metadata": {
        "id": "1RVkt8PrqvR0"
      },
      "source": [
        "## 브로드캐스팅"
      ]
    },
    {
      "cell_type": "markdown",
      "metadata": {
        "id": "KaWk9Bdiq0mB"
      },
      "source": [
        "일반적으로 넘파이는 동일한 크기의 배열을 기대한다. 그렇지 않은 상황에는 브로드캐스팅 규칙을 적용한다."
      ]
    },
    {
      "cell_type": "markdown",
      "metadata": {
        "id": "IuGYClovrG4E"
      },
      "source": [
        "### 규칙 1"
      ]
    },
    {
      "cell_type": "code",
      "metadata": {
        "colab": {
          "base_uri": "https://localhost:8080/"
        },
        "id": "kVud1IdZqjfC",
        "outputId": "741e795f-6bc7-4ff4-c804-b68270da36e6"
      },
      "source": [
        "# 배열의 랭크가 동일하지 않으면 랭크가 맞을 때까지 랭크가 작은 배열 앞에 1을 추가한다.\n",
        "h = np.arange(5).reshape(1, 1, 5)\n",
        "h"
      ],
      "execution_count": 3,
      "outputs": [
        {
          "output_type": "execute_result",
          "data": {
            "text/plain": [
              "array([[[0, 1, 2, 3, 4]]])"
            ]
          },
          "metadata": {
            "tags": []
          },
          "execution_count": 3
        }
      ]
    },
    {
      "cell_type": "code",
      "metadata": {
        "colab": {
          "base_uri": "https://localhost:8080/"
        },
        "id": "aVm3DvBZq8Tt",
        "outputId": "2b1684e5-2663-49e1-981a-a647ee357168"
      },
      "source": [
        "# 여기에 (1, 1, 5) 크기의 3D 배열에 (5, ) 크기의 1D 배열을 더하면 브로드캐스팅 규칙 1이 적용된다.\n",
        "h + [10, 20, 30, 40, 50]"
      ],
      "execution_count": 4,
      "outputs": [
        {
          "output_type": "execute_result",
          "data": {
            "text/plain": [
              "array([[[10, 21, 32, 43, 54]]])"
            ]
          },
          "metadata": {
            "tags": []
          },
          "execution_count": 4
        }
      ]
    },
    {
      "cell_type": "markdown",
      "metadata": {
        "id": "OGs010vCq9Gl"
      },
      "source": [
        "### 규칙 2"
      ]
    },
    {
      "cell_type": "code",
      "metadata": {
        "colab": {
          "base_uri": "https://localhost:8080/"
        },
        "id": "o7CNpiVCs0sL",
        "outputId": "5a874c86-9bca-41c0-d3b7-c5686073edd6"
      },
      "source": [
        "# 특정 차원이 1인 배열은 그 차원에서 크기가 가장 큰 배열의 크기에 맞춰 동작한다. 배열의 원소가 차원을 따라 반복\n",
        "k = np.arange(6).reshape(2, 3)\n",
        "k"
      ],
      "execution_count": 5,
      "outputs": [
        {
          "output_type": "execute_result",
          "data": {
            "text/plain": [
              "array([[0, 1, 2],\n",
              "       [3, 4, 5]])"
            ]
          },
          "metadata": {
            "tags": []
          },
          "execution_count": 5
        }
      ]
    },
    {
      "cell_type": "code",
      "metadata": {
        "colab": {
          "base_uri": "https://localhost:8080/"
        },
        "id": "bC3bfQ_ftYn0",
        "outputId": "c05aa721-8369-4728-aeb5-7afe0d3569f4"
      },
      "source": [
        "# (2, 3) 크기의 2D ndarray에 (2,1) 크기의 2D 배열을 더하면 넘파이는 브로드캐스팅 규칙 2를 적용한다.\n",
        "# 다음과 같다: k +[[100, 100, 100], [200, 200, 200]]\n",
        "k + [[100], [200]]"
      ],
      "execution_count": 6,
      "outputs": [
        {
          "output_type": "execute_result",
          "data": {
            "text/plain": [
              "array([[100, 101, 102],\n",
              "       [203, 204, 205]])"
            ]
          },
          "metadata": {
            "tags": []
          },
          "execution_count": 6
        }
      ]
    },
    {
      "cell_type": "code",
      "metadata": {
        "colab": {
          "base_uri": "https://localhost:8080/"
        },
        "id": "9uGfkVV_uDyf",
        "outputId": "0d4d46bb-e78e-4b6b-9b78-2cb0a7527dfa"
      },
      "source": [
        "# 규칙 1과 규칙 2를 합치면 다음과 같이 동작한다.\n",
        "# 규칙 1 적용 : [[100, 200, 300]]\n",
        "# 규칙 2 적요 : [[100, 200, 300], [100 ,200, 300]]\n",
        "k + [100, 200, 300]"
      ],
      "execution_count": 7,
      "outputs": [
        {
          "output_type": "execute_result",
          "data": {
            "text/plain": [
              "array([[100, 201, 302],\n",
              "       [103, 204, 305]])"
            ]
          },
          "metadata": {
            "tags": []
          },
          "execution_count": 7
        }
      ]
    },
    {
      "cell_type": "code",
      "metadata": {
        "colab": {
          "base_uri": "https://localhost:8080/"
        },
        "id": "G65EApXkuchh",
        "outputId": "1bc9478d-738c-4961-91b7-bb09a0166b21"
      },
      "source": [
        "# 다음과 같이도 가능\n",
        "# k + [[1000, 1000, 1000], [1000, 1000, 1000]]\n",
        "k + 1000"
      ],
      "execution_count": 8,
      "outputs": [
        {
          "output_type": "execute_result",
          "data": {
            "text/plain": [
              "array([[1000, 1001, 1002],\n",
              "       [1003, 1004, 1005]])"
            ]
          },
          "metadata": {
            "tags": []
          },
          "execution_count": 8
        }
      ]
    },
    {
      "cell_type": "markdown",
      "metadata": {
        "id": "DOMW4ILmuDKa"
      },
      "source": [
        "### 규칙 3"
      ]
    },
    {
      "cell_type": "code",
      "metadata": {
        "colab": {
          "base_uri": "https://localhost:8080/"
        },
        "id": "rDqQqqgRuoj6",
        "outputId": "34d11007-19de-4ff8-f540-1a9b7efdb7c6"
      },
      "source": [
        "# 규칙 1과 2를 적용했을 때 모든 배열의 크기가 맞아야 한다.\n",
        "try:\n",
        "    k + [33, 44]\n",
        "except ValueError as e:\n",
        "    print(e)"
      ],
      "execution_count": 9,
      "outputs": [
        {
          "output_type": "stream",
          "text": [
            "operands could not be broadcast together with shapes (2,3) (2,) \n"
          ],
          "name": "stdout"
        }
      ]
    },
    {
      "cell_type": "markdown",
      "metadata": {
        "id": "92bUvtUzuDQ1"
      },
      "source": [
        "### 업캐스팅"
      ]
    },
    {
      "cell_type": "code",
      "metadata": {
        "colab": {
          "base_uri": "https://localhost:8080/"
        },
        "id": "m9U_nFQ3u0m4",
        "outputId": "fd59507a-a486-4bb0-cd9c-05737f45a083"
      },
      "source": [
        "# dtype이 다른 배열을 합칠 때 넘파이는 모든 값을 다룰 수 있는 타입으로 업캐스팅한다.\n",
        "k1 = np.arange(0, 5, dtype=np.uint8)\n",
        "print(k1.dtype, k1)"
      ],
      "execution_count": 11,
      "outputs": [
        {
          "output_type": "stream",
          "text": [
            "uint8 [0 1 2 3 4]\n"
          ],
          "name": "stdout"
        }
      ]
    },
    {
      "cell_type": "code",
      "metadata": {
        "colab": {
          "base_uri": "https://localhost:8080/"
        },
        "id": "dDjABxRpu1mn",
        "outputId": "715e11e5-6b70-4324-d474-3a91fbe07188"
      },
      "source": [
        "k2 = k1 + np.array([5, 6, 7, 8, 9], dtype=np.int8)\n",
        "print(k2.dtype, k2)"
      ],
      "execution_count": 12,
      "outputs": [
        {
          "output_type": "stream",
          "text": [
            "int16 [ 5  7  9 11 13]\n"
          ],
          "name": "stdout"
        }
      ]
    },
    {
      "cell_type": "code",
      "metadata": {
        "colab": {
          "base_uri": "https://localhost:8080/"
        },
        "id": "4jMG917SvOBw",
        "outputId": "ecd38402-3716-4fbb-bba3-0d1b569df84d"
      },
      "source": [
        "# 모든 int8과 uint8 값(-128에서 255까지)을 표현하기 위해 int16이 필요하다.\n",
        "# 다음 코드에서는 uint8이면 충분하지만 업캐스팅되었다.\n",
        "k3 = k1 + 1.5\n",
        "print(k3.dtype, k3)"
      ],
      "execution_count": 13,
      "outputs": [
        {
          "output_type": "stream",
          "text": [
            "float64 [1.5 2.5 3.5 4.5 5.5]\n"
          ],
          "name": "stdout"
        }
      ]
    }
  ]
}