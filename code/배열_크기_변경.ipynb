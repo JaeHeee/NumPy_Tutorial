{
  "nbformat": 4,
  "nbformat_minor": 0,
  "metadata": {
    "colab": {
      "name": "배열 크기 변경.ipynb",
      "provenance": [],
      "collapsed_sections": [],
      "authorship_tag": "ABX9TyM3yIy1IhtprjeR0HzOLSIm",
      "include_colab_link": true
    },
    "kernelspec": {
      "name": "python3",
      "display_name": "Python 3"
    }
  },
  "cells": [
    {
      "cell_type": "markdown",
      "metadata": {
        "id": "view-in-github",
        "colab_type": "text"
      },
      "source": [
        "<a href=\"https://colab.research.google.com/github/JaeHeee/NumPy_Tutorial/blob/master/code/%EB%B0%B0%EC%97%B4_%ED%81%AC%EA%B8%B0_%EB%B3%80%EA%B2%BD.ipynb\" target=\"_parent\"><img src=\"https://colab.research.google.com/assets/colab-badge.svg\" alt=\"Open In Colab\"/></a>"
      ]
    },
    {
      "cell_type": "markdown",
      "metadata": {
        "id": "VtnQfrNpSgZ6"
      },
      "source": [
        "# 배열 크기 변경"
      ]
    },
    {
      "cell_type": "code",
      "metadata": {
        "id": "mtK8D360SeQQ"
      },
      "source": [
        "import numpy as np"
      ],
      "execution_count": 1,
      "outputs": []
    },
    {
      "cell_type": "markdown",
      "metadata": {
        "id": "YcqSqF0lSoJz"
      },
      "source": [
        "### 자신을 변경"
      ]
    },
    {
      "cell_type": "code",
      "metadata": {
        "colab": {
          "base_uri": "https://localhost:8080/"
        },
        "id": "XhbVr3SxSmBr",
        "outputId": "51d87dc4-9a1d-4ab0-cb13-65016bee73f3"
      },
      "source": [
        "# ndarray의 shape 속성을 지정하면 간단히 크기를 바꿀 수 있다. 배열의 원소 개수는 동일하게 유지된다.\n",
        "g = np.arange(24)\n",
        "print(g)\n",
        "print(\"랭크:\", g.ndim)"
      ],
      "execution_count": 3,
      "outputs": [
        {
          "output_type": "stream",
          "text": [
            "[ 0  1  2  3  4  5  6  7  8  9 10 11 12 13 14 15 16 17 18 19 20 21 22 23]\n",
            "랭크: 1\n"
          ],
          "name": "stdout"
        }
      ]
    },
    {
      "cell_type": "code",
      "metadata": {
        "colab": {
          "base_uri": "https://localhost:8080/"
        },
        "id": "sogDOHRCS3J4",
        "outputId": "1de2826f-9242-4d46-8398-174d3061bfd5"
      },
      "source": [
        "g.shape = (6, 4)\n",
        "print(g)\n",
        "print(\"랭크:\", g.ndim)"
      ],
      "execution_count": 4,
      "outputs": [
        {
          "output_type": "stream",
          "text": [
            "[[ 0  1  2  3]\n",
            " [ 4  5  6  7]\n",
            " [ 8  9 10 11]\n",
            " [12 13 14 15]\n",
            " [16 17 18 19]\n",
            " [20 21 22 23]]\n",
            "랭크: 2\n"
          ],
          "name": "stdout"
        }
      ]
    },
    {
      "cell_type": "code",
      "metadata": {
        "colab": {
          "base_uri": "https://localhost:8080/"
        },
        "id": "xvruxCLIS9Ah",
        "outputId": "b268b337-2186-4ae7-f7c8-4017738aae29"
      },
      "source": [
        "g.shape = (2, 3, 4)\n",
        "print(g)\n",
        "print(\"랭크:\", g.ndim)"
      ],
      "execution_count": 5,
      "outputs": [
        {
          "output_type": "stream",
          "text": [
            "[[[ 0  1  2  3]\n",
            "  [ 4  5  6  7]\n",
            "  [ 8  9 10 11]]\n",
            "\n",
            " [[12 13 14 15]\n",
            "  [16 17 18 19]\n",
            "  [20 21 22 23]]]\n",
            "랭크: 3\n"
          ],
          "name": "stdout"
        }
      ]
    },
    {
      "cell_type": "markdown",
      "metadata": {
        "id": "2uMECcinTElw"
      },
      "source": [
        "#### reshape"
      ]
    },
    {
      "cell_type": "code",
      "metadata": {
        "colab": {
          "base_uri": "https://localhost:8080/"
        },
        "id": "EKMkbmdkTC5B",
        "outputId": "8a1a3a40-f306-43fc-a6e7-7e643328f484"
      },
      "source": [
        "# reshape 함수는 동일한 데이터를 가리키는 새로운 ndarray 객체를 반환한다. 한 배열을 수정하면 다른 것도 함께 바뀐다.\n",
        "g2 = g.reshape(4, 6)\n",
        "print(g2)\n",
        "print(\"랭크:\", g2.ndim)"
      ],
      "execution_count": 6,
      "outputs": [
        {
          "output_type": "stream",
          "text": [
            "[[ 0  1  2  3  4  5]\n",
            " [ 6  7  8  9 10 11]\n",
            " [12 13 14 15 16 17]\n",
            " [18 19 20 21 22 23]]\n",
            "랭크: 2\n"
          ],
          "name": "stdout"
        }
      ]
    },
    {
      "cell_type": "code",
      "metadata": {
        "colab": {
          "base_uri": "https://localhost:8080/"
        },
        "id": "pvSheGZDTWXk",
        "outputId": "d504de6f-045f-40cc-e9a3-91504fb9ef09"
      },
      "source": [
        "g2[1, 2] = 999\n",
        "g2"
      ],
      "execution_count": 7,
      "outputs": [
        {
          "output_type": "execute_result",
          "data": {
            "text/plain": [
              "array([[  0,   1,   2,   3,   4,   5],\n",
              "       [  6,   7, 999,   9,  10,  11],\n",
              "       [ 12,  13,  14,  15,  16,  17],\n",
              "       [ 18,  19,  20,  21,  22,  23]])"
            ]
          },
          "metadata": {
            "tags": []
          },
          "execution_count": 7
        }
      ]
    },
    {
      "cell_type": "code",
      "metadata": {
        "colab": {
          "base_uri": "https://localhost:8080/"
        },
        "id": "kFjtP9IwTZns",
        "outputId": "9fc0e4f7-6a74-42ac-fa54-72d2ce9609b2"
      },
      "source": [
        "g"
      ],
      "execution_count": 8,
      "outputs": [
        {
          "output_type": "execute_result",
          "data": {
            "text/plain": [
              "array([[[  0,   1,   2,   3],\n",
              "        [  4,   5,   6,   7],\n",
              "        [999,   9,  10,  11]],\n",
              "\n",
              "       [[ 12,  13,  14,  15],\n",
              "        [ 16,  17,  18,  19],\n",
              "        [ 20,  21,  22,  23]]])"
            ]
          },
          "metadata": {
            "tags": []
          },
          "execution_count": 8
        }
      ]
    },
    {
      "cell_type": "markdown",
      "metadata": {
        "id": "yedyM1pFTcTd"
      },
      "source": [
        "#### ravel"
      ]
    },
    {
      "cell_type": "code",
      "metadata": {
        "colab": {
          "base_uri": "https://localhost:8080/"
        },
        "id": "5QnQPTxZTZ_a",
        "outputId": "4a6d741d-28f7-445d-a06f-5d0e231c8e04"
      },
      "source": [
        "# ravel 함수는 동일한 데이터를 가리키는 새로운 1차원 ndarray를 반환한다.\n",
        "g.ravel()"
      ],
      "execution_count": 9,
      "outputs": [
        {
          "output_type": "execute_result",
          "data": {
            "text/plain": [
              "array([  0,   1,   2,   3,   4,   5,   6,   7, 999,   9,  10,  11,  12,\n",
              "        13,  14,  15,  16,  17,  18,  19,  20,  21,  22,  23])"
            ]
          },
          "metadata": {
            "tags": []
          },
          "execution_count": 9
        }
      ]
    }
  ]
}