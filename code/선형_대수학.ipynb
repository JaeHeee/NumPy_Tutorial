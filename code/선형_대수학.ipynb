{
  "nbformat": 4,
  "nbformat_minor": 0,
  "metadata": {
    "colab": {
      "name": "선형 대수학.ipynb",
      "provenance": [],
      "authorship_tag": "ABX9TyM7AMdhHg5uGbkfAeEZYWWS",
      "include_colab_link": true
    },
    "kernelspec": {
      "name": "python3",
      "display_name": "Python 3"
    }
  },
  "cells": [
    {
      "cell_type": "markdown",
      "metadata": {
        "id": "view-in-github",
        "colab_type": "text"
      },
      "source": [
        "<a href=\"https://colab.research.google.com/github/JaeHeee/NumPy_Tutorial/blob/master/code/%EC%84%A0%ED%98%95_%EB%8C%80%EC%88%98%ED%95%99.ipynb\" target=\"_parent\"><img src=\"https://colab.research.google.com/assets/colab-badge.svg\" alt=\"Open In Colab\"/></a>"
      ]
    },
    {
      "cell_type": "markdown",
      "metadata": {
        "id": "PSzrAd6Y4Wdf"
      },
      "source": [
        "# 선형 대수학"
      ]
    },
    {
      "cell_type": "code",
      "metadata": {
        "id": "uY4mLfad4bOP"
      },
      "source": [
        "import numpy as np"
      ],
      "execution_count": 1,
      "outputs": []
    },
    {
      "cell_type": "markdown",
      "metadata": {
        "id": "ap1ylHk74e8E"
      },
      "source": [
        "넘파이 2D 배열을 사용하면 파이썬에서 행렬을 효율적으로 표현할 수 있다."
      ]
    },
    {
      "cell_type": "markdown",
      "metadata": {
        "id": "jVetxEOe4kHx"
      },
      "source": [
        "### 행렬 전치"
      ]
    },
    {
      "cell_type": "code",
      "metadata": {
        "colab": {
          "base_uri": "https://localhost:8080/",
          "height": 0
        },
        "id": "7knE2EZz4N6A",
        "outputId": "2467e145-56d2-4f0a-8858-59e49cbb729e"
      },
      "source": [
        "# T 속성은 랭크가 2보다 크거나 같을 때 transpose()를 호출하는 것과 같다.\n",
        "m1 = np.arange(10).reshape(2, 5)\n",
        "m1"
      ],
      "execution_count": 2,
      "outputs": [
        {
          "output_type": "execute_result",
          "data": {
            "text/plain": [
              "array([[0, 1, 2, 3, 4],\n",
              "       [5, 6, 7, 8, 9]])"
            ]
          },
          "metadata": {
            "tags": []
          },
          "execution_count": 2
        }
      ]
    },
    {
      "cell_type": "code",
      "metadata": {
        "colab": {
          "base_uri": "https://localhost:8080/",
          "height": 0
        },
        "id": "svjLd4JJ4tFp",
        "outputId": "26b84a22-447d-4f12-e20f-0d9ff47c0193"
      },
      "source": [
        "m1.T"
      ],
      "execution_count": 3,
      "outputs": [
        {
          "output_type": "execute_result",
          "data": {
            "text/plain": [
              "array([[0, 5],\n",
              "       [1, 6],\n",
              "       [2, 7],\n",
              "       [3, 8],\n",
              "       [4, 9]])"
            ]
          },
          "metadata": {
            "tags": []
          },
          "execution_count": 3
        }
      ]
    },
    {
      "cell_type": "code",
      "metadata": {
        "colab": {
          "base_uri": "https://localhost:8080/",
          "height": 0
        },
        "id": "5T9zZZ-34uKV",
        "outputId": "34554fd8-4ee1-481d-a375-81972c256a57"
      },
      "source": [
        "# T 속성은 랭크가 0이거나 1인 배열에는 아무런 영향을 미치지 않는다.\n",
        "m2 = np.arange(5)\n",
        "m2"
      ],
      "execution_count": 4,
      "outputs": [
        {
          "output_type": "execute_result",
          "data": {
            "text/plain": [
              "array([0, 1, 2, 3, 4])"
            ]
          },
          "metadata": {
            "tags": []
          },
          "execution_count": 4
        }
      ]
    },
    {
      "cell_type": "code",
      "metadata": {
        "colab": {
          "base_uri": "https://localhost:8080/",
          "height": 0
        },
        "id": "EIUIXIwq42Mc",
        "outputId": "67369962-265f-4bb0-bea1-27f4faaf1577"
      },
      "source": [
        "m2.T"
      ],
      "execution_count": 5,
      "outputs": [
        {
          "output_type": "execute_result",
          "data": {
            "text/plain": [
              "array([0, 1, 2, 3, 4])"
            ]
          },
          "metadata": {
            "tags": []
          },
          "execution_count": 5
        }
      ]
    },
    {
      "cell_type": "code",
      "metadata": {
        "colab": {
          "base_uri": "https://localhost:8080/",
          "height": 0
        },
        "id": "WAKyPvBn423I",
        "outputId": "37cbd743-a7d5-45ea-ecd3-b7c044551419"
      },
      "source": [
        "# 먼저 1D 배열을 하나의 행이 있는 행렬(2D)로 바꾼다음 전치를 수행할 수 있다.\n",
        "m2r = m2.reshape(1, 5)\n",
        "m2r"
      ],
      "execution_count": 6,
      "outputs": [
        {
          "output_type": "execute_result",
          "data": {
            "text/plain": [
              "array([[0, 1, 2, 3, 4]])"
            ]
          },
          "metadata": {
            "tags": []
          },
          "execution_count": 6
        }
      ]
    },
    {
      "cell_type": "code",
      "metadata": {
        "colab": {
          "base_uri": "https://localhost:8080/",
          "height": 0
        },
        "id": "t2pBEx7P4_y8",
        "outputId": "5c87f47d-c5a7-471e-a587-5b3964c7ce52"
      },
      "source": [
        "m2r.T"
      ],
      "execution_count": 7,
      "outputs": [
        {
          "output_type": "execute_result",
          "data": {
            "text/plain": [
              "array([[0],\n",
              "       [1],\n",
              "       [2],\n",
              "       [3],\n",
              "       [4]])"
            ]
          },
          "metadata": {
            "tags": []
          },
          "execution_count": 7
        }
      ]
    },
    {
      "cell_type": "markdown",
      "metadata": {
        "id": "olTUPDxz5DiG"
      },
      "source": [
        "### 행렬 점곱"
      ]
    },
    {
      "cell_type": "code",
      "metadata": {
        "colab": {
          "base_uri": "https://localhost:8080/",
          "height": 0
        },
        "id": "Y2BWKx915Anl",
        "outputId": "2035ef78-402d-44f9-b8e1-1e36e2f8055d"
      },
      "source": [
        "# 두 개의 행렬을 만들어 dot 메서드로 행렬 점곱을 실행\n",
        "n1 = np.arange(10).reshape(2, 5)\n",
        "n1"
      ],
      "execution_count": 8,
      "outputs": [
        {
          "output_type": "execute_result",
          "data": {
            "text/plain": [
              "array([[0, 1, 2, 3, 4],\n",
              "       [5, 6, 7, 8, 9]])"
            ]
          },
          "metadata": {
            "tags": []
          },
          "execution_count": 8
        }
      ]
    },
    {
      "cell_type": "code",
      "metadata": {
        "colab": {
          "base_uri": "https://localhost:8080/",
          "height": 0
        },
        "id": "-lJIGdtA5Mhk",
        "outputId": "886303f3-0b6b-4191-e467-0406a5b85597"
      },
      "source": [
        "n2 = np.arange(15).reshape(5, 3)\n",
        "n2"
      ],
      "execution_count": 9,
      "outputs": [
        {
          "output_type": "execute_result",
          "data": {
            "text/plain": [
              "array([[ 0,  1,  2],\n",
              "       [ 3,  4,  5],\n",
              "       [ 6,  7,  8],\n",
              "       [ 9, 10, 11],\n",
              "       [12, 13, 14]])"
            ]
          },
          "metadata": {
            "tags": []
          },
          "execution_count": 9
        }
      ]
    },
    {
      "cell_type": "code",
      "metadata": {
        "colab": {
          "base_uri": "https://localhost:8080/",
          "height": 0
        },
        "id": "BAS5IYOL5QkP",
        "outputId": "7e2d7e2c-6fd5-48ef-ab99-e2062a8db451"
      },
      "source": [
        "n1.dot(n2)"
      ],
      "execution_count": 10,
      "outputs": [
        {
          "output_type": "execute_result",
          "data": {
            "text/plain": [
              "array([[ 90, 100, 110],\n",
              "       [240, 275, 310]])"
            ]
          },
          "metadata": {
            "tags": []
          },
          "execution_count": 10
        }
      ]
    },
    {
      "cell_type": "markdown",
      "metadata": {
        "id": "bMs6scVM5Z4L"
      },
      "source": [
        "n1*n2는 점곱이 아니라 원소별 곱셈"
      ]
    },
    {
      "cell_type": "markdown",
      "metadata": {
        "id": "PpYN36p_5dqw"
      },
      "source": [
        "### 역행렬과 유사 역행렬"
      ]
    },
    {
      "cell_type": "code",
      "metadata": {
        "colab": {
          "base_uri": "https://localhost:8080/",
          "height": 0
        },
        "id": "PqafKv__5S_l",
        "outputId": "c9f5bb72-8540-4290-86e0-f056ddb6b097"
      },
      "source": [
        "# numpy.linalg 모듈 안에 많은 선형 대수 함수들이 있다. 특히 inv 함수는 정방 행렬의 역행렬을 계산\n",
        "import numpy.linalg as linalg\n",
        "\n",
        "m3 = np.array([[1,2,3],[5,7,11],[21,29,31]])\n",
        "m3"
      ],
      "execution_count": 12,
      "outputs": [
        {
          "output_type": "execute_result",
          "data": {
            "text/plain": [
              "array([[ 1,  2,  3],\n",
              "       [ 5,  7, 11],\n",
              "       [21, 29, 31]])"
            ]
          },
          "metadata": {
            "tags": []
          },
          "execution_count": 12
        }
      ]
    },
    {
      "cell_type": "code",
      "metadata": {
        "colab": {
          "base_uri": "https://localhost:8080/",
          "height": 0
        },
        "id": "9xgHtw4p539z",
        "outputId": "fba9730c-1abd-4294-ef2d-442191f4516f"
      },
      "source": [
        "linalg.inv(m3)"
      ],
      "execution_count": 13,
      "outputs": [
        {
          "output_type": "execute_result",
          "data": {
            "text/plain": [
              "array([[-2.31818182,  0.56818182,  0.02272727],\n",
              "       [ 1.72727273, -0.72727273,  0.09090909],\n",
              "       [-0.04545455,  0.29545455, -0.06818182]])"
            ]
          },
          "metadata": {
            "tags": []
          },
          "execution_count": 13
        }
      ]
    },
    {
      "cell_type": "code",
      "metadata": {
        "colab": {
          "base_uri": "https://localhost:8080/",
          "height": 0
        },
        "id": "BXhAv3PY57FP",
        "outputId": "a08337e4-e8b6-4356-8eb6-b548a02a0548"
      },
      "source": [
        "# pinv 함수를 사용하여 유사 역행렬을 계산할 수 있다.\n",
        "linalg.pinv(m3)"
      ],
      "execution_count": 14,
      "outputs": [
        {
          "output_type": "execute_result",
          "data": {
            "text/plain": [
              "array([[-2.31818182,  0.56818182,  0.02272727],\n",
              "       [ 1.72727273, -0.72727273,  0.09090909],\n",
              "       [-0.04545455,  0.29545455, -0.06818182]])"
            ]
          },
          "metadata": {
            "tags": []
          },
          "execution_count": 14
        }
      ]
    },
    {
      "cell_type": "markdown",
      "metadata": {
        "id": "BB_xrhRk6UjA"
      },
      "source": [
        "### 단위 행렬"
      ]
    },
    {
      "cell_type": "code",
      "metadata": {
        "colab": {
          "base_uri": "https://localhost:8080/",
          "height": 0
        },
        "id": "DxYmsvvk6B65",
        "outputId": "8e427504-ccac-4940-e907-36d8c9c9f54b"
      },
      "source": [
        "# 행렬과 그 행렬의 역행렬을 곱하면 단위 행렬이 된다.\n",
        "m3.dot(linalg.inv(m3))"
      ],
      "execution_count": 15,
      "outputs": [
        {
          "output_type": "execute_result",
          "data": {
            "text/plain": [
              "array([[ 1.00000000e+00, -1.66533454e-16,  0.00000000e+00],\n",
              "       [ 6.31439345e-16,  1.00000000e+00, -1.38777878e-16],\n",
              "       [ 5.21110932e-15, -2.38697950e-15,  1.00000000e+00]])"
            ]
          },
          "metadata": {
            "tags": []
          },
          "execution_count": 15
        }
      ]
    },
    {
      "cell_type": "code",
      "metadata": {
        "colab": {
          "base_uri": "https://localhost:8080/",
          "height": 0
        },
        "id": "SVZzadSf6dCD",
        "outputId": "3ada1442-f6d5-4c76-a209-7d5eeec5a787"
      },
      "source": [
        "# eye 함수는 NxN 크기의 단위 행렬을 생성\n",
        "np.eye(3)"
      ],
      "execution_count": 16,
      "outputs": [
        {
          "output_type": "execute_result",
          "data": {
            "text/plain": [
              "array([[1., 0., 0.],\n",
              "       [0., 1., 0.],\n",
              "       [0., 0., 1.]])"
            ]
          },
          "metadata": {
            "tags": []
          },
          "execution_count": 16
        }
      ]
    },
    {
      "cell_type": "markdown",
      "metadata": {
        "id": "4lvX7dG06jex"
      },
      "source": [
        "### QR 분해"
      ]
    },
    {
      "cell_type": "code",
      "metadata": {
        "colab": {
          "base_uri": "https://localhost:8080/",
          "height": 0
        },
        "id": "tQvtMi8E6id_",
        "outputId": "5c0ca3d8-8dc6-4b92-e698-db02472c5550"
      },
      "source": [
        "# qr 함수는 행렬을 QR 분해한다.\n",
        "q, r = linalg.qr(m3)\n",
        "q"
      ],
      "execution_count": 17,
      "outputs": [
        {
          "output_type": "execute_result",
          "data": {
            "text/plain": [
              "array([[-0.04627448,  0.98786672,  0.14824986],\n",
              "       [-0.23137241,  0.13377362, -0.96362411],\n",
              "       [-0.97176411, -0.07889213,  0.22237479]])"
            ]
          },
          "metadata": {
            "tags": []
          },
          "execution_count": 17
        }
      ]
    },
    {
      "cell_type": "code",
      "metadata": {
        "colab": {
          "base_uri": "https://localhost:8080/",
          "height": 0
        },
        "id": "GPbhZWgR6qvM",
        "outputId": "9fef2e8c-17a6-48b0-c976-cf407c87932c"
      },
      "source": [
        "r"
      ],
      "execution_count": 18,
      "outputs": [
        {
          "output_type": "execute_result",
          "data": {
            "text/plain": [
              "array([[-21.61018278, -29.89331494, -32.80860727],\n",
              "       [  0.        ,   0.62427688,   1.9894538 ],\n",
              "       [  0.        ,   0.        ,  -3.26149699]])"
            ]
          },
          "metadata": {
            "tags": []
          },
          "execution_count": 18
        }
      ]
    },
    {
      "cell_type": "code",
      "metadata": {
        "colab": {
          "base_uri": "https://localhost:8080/",
          "height": 0
        },
        "id": "fOn3jQcJ6q_V",
        "outputId": "c1a3c0b7-d5a7-4f04-b27b-08f5e12d848e"
      },
      "source": [
        "# q.dot(r)는 m3와 같다.\n",
        "q.dot(r)"
      ],
      "execution_count": 19,
      "outputs": [
        {
          "output_type": "execute_result",
          "data": {
            "text/plain": [
              "array([[ 1.,  2.,  3.],\n",
              "       [ 5.,  7., 11.],\n",
              "       [21., 29., 31.]])"
            ]
          },
          "metadata": {
            "tags": []
          },
          "execution_count": 19
        }
      ]
    },
    {
      "cell_type": "markdown",
      "metadata": {
        "id": "C-znYWyV6y7T"
      },
      "source": [
        "### 행렬식"
      ]
    },
    {
      "cell_type": "code",
      "metadata": {
        "colab": {
          "base_uri": "https://localhost:8080/",
          "height": 0
        },
        "id": "LaMmF6kk6xNy",
        "outputId": "dfafbc35-bd19-40a4-8b26-883bcefdbada"
      },
      "source": [
        "# det 함수는 행렬식을 계산\n",
        "linalg.det(m3)"
      ],
      "execution_count": 20,
      "outputs": [
        {
          "output_type": "execute_result",
          "data": {
            "text/plain": [
              "43.99999999999997"
            ]
          },
          "metadata": {
            "tags": []
          },
          "execution_count": 20
        }
      ]
    },
    {
      "cell_type": "markdown",
      "metadata": {
        "id": "OJF_GkXW7BK5"
      },
      "source": [
        "### 고유값과 고유벡터"
      ]
    },
    {
      "cell_type": "code",
      "metadata": {
        "colab": {
          "base_uri": "https://localhost:8080/"
        },
        "id": "eFu4tUZG65Ai",
        "outputId": "19bc5a4b-1018-4ae6-a953-e4c600336bb6"
      },
      "source": [
        "# eig 함수는 정방 행렬의 고유값과 고유벡터를 계산\n",
        "eigenvalues, eigenvectors = linalg.eig(m3)\n",
        "eigenvalues"
      ],
      "execution_count": 21,
      "outputs": [
        {
          "output_type": "execute_result",
          "data": {
            "text/plain": [
              "array([42.26600592, -0.35798416, -2.90802176])"
            ]
          },
          "metadata": {
            "tags": []
          },
          "execution_count": 21
        }
      ]
    },
    {
      "cell_type": "code",
      "metadata": {
        "colab": {
          "base_uri": "https://localhost:8080/"
        },
        "id": "HOVgjrqW7Llw",
        "outputId": "1daaf66f-2850-47e0-cdcb-18cd2942fb4c"
      },
      "source": [
        "eigenvectors"
      ],
      "execution_count": 22,
      "outputs": [
        {
          "output_type": "execute_result",
          "data": {
            "text/plain": [
              "array([[-0.08381182, -0.76283526, -0.18913107],\n",
              "       [-0.3075286 ,  0.64133975, -0.6853186 ],\n",
              "       [-0.94784057, -0.08225377,  0.70325518]])"
            ]
          },
          "metadata": {
            "tags": []
          },
          "execution_count": 22
        }
      ]
    },
    {
      "cell_type": "code",
      "metadata": {
        "colab": {
          "base_uri": "https://localhost:8080/"
        },
        "id": "xM8NA3G67Nn9",
        "outputId": "36bb13ca-9f06-40a2-8117-b47884fd1e96"
      },
      "source": [
        "# m3.v - λ*v = 0\n",
        "m3.dot(eigenvectors) - eigenvalues * eigenvectors"
      ],
      "execution_count": 23,
      "outputs": [
        {
          "output_type": "execute_result",
          "data": {
            "text/plain": [
              "array([[ 6.66133815e-15,  1.66533454e-15, -3.10862447e-15],\n",
              "       [ 7.10542736e-15,  5.16253706e-15, -5.32907052e-15],\n",
              "       [ 3.55271368e-14,  4.94743135e-15, -9.76996262e-15]])"
            ]
          },
          "metadata": {
            "tags": []
          },
          "execution_count": 23
        }
      ]
    },
    {
      "cell_type": "markdown",
      "metadata": {
        "id": "7MAiaX3w7iaZ"
      },
      "source": [
        "### 특이값 분해\n"
      ]
    },
    {
      "cell_type": "code",
      "metadata": {
        "colab": {
          "base_uri": "https://localhost:8080/"
        },
        "id": "hmDTTT7j7gAa",
        "outputId": "19d66804-9114-4ecf-b42b-98312ee5edd0"
      },
      "source": [
        "# svd 함수는 행렬을 입력으로 받아 그 행렬의 특이값 분해를 반환\n",
        "m4 = np.array([[1,0,0,0,2], [0,0,3,0,0], [0,0,0,0,0], [0,2,0,0,0]])\n",
        "m4"
      ],
      "execution_count": 25,
      "outputs": [
        {
          "output_type": "execute_result",
          "data": {
            "text/plain": [
              "array([[1, 0, 0, 0, 2],\n",
              "       [0, 0, 3, 0, 0],\n",
              "       [0, 0, 0, 0, 0],\n",
              "       [0, 2, 0, 0, 0]])"
            ]
          },
          "metadata": {
            "tags": []
          },
          "execution_count": 25
        }
      ]
    },
    {
      "cell_type": "code",
      "metadata": {
        "id": "wH5WmyBJ7uxa"
      },
      "source": [
        "U, S_diag, V = linalg.svd(m4)"
      ],
      "execution_count": 26,
      "outputs": []
    },
    {
      "cell_type": "code",
      "metadata": {
        "colab": {
          "base_uri": "https://localhost:8080/"
        },
        "id": "qjkX1YBK74As",
        "outputId": "bf70789d-23f1-45d9-c898-fd7a55372076"
      },
      "source": [
        "U"
      ],
      "execution_count": 27,
      "outputs": [
        {
          "output_type": "execute_result",
          "data": {
            "text/plain": [
              "array([[ 0.,  1.,  0.,  0.],\n",
              "       [ 1.,  0.,  0.,  0.],\n",
              "       [ 0.,  0.,  0., -1.],\n",
              "       [ 0.,  0.,  1.,  0.]])"
            ]
          },
          "metadata": {
            "tags": []
          },
          "execution_count": 27
        }
      ]
    },
    {
      "cell_type": "code",
      "metadata": {
        "colab": {
          "base_uri": "https://localhost:8080/"
        },
        "id": "CPU4hE7g75WK",
        "outputId": "f0847284-2b1f-4354-cc1e-3fe64776be8b"
      },
      "source": [
        "S_diag"
      ],
      "execution_count": 28,
      "outputs": [
        {
          "output_type": "execute_result",
          "data": {
            "text/plain": [
              "array([3.        , 2.23606798, 2.        , 0.        ])"
            ]
          },
          "metadata": {
            "tags": []
          },
          "execution_count": 28
        }
      ]
    },
    {
      "cell_type": "code",
      "metadata": {
        "colab": {
          "base_uri": "https://localhost:8080/"
        },
        "id": "uGU4CPZ476Ft",
        "outputId": "c9b64233-6557-4722-fc67-177ceee1a292"
      },
      "source": [
        "# svd 함수는 Σ의 대각 원소 값만 반환. 전체 Σ 행렬은 다음과 같이 생성\n",
        "S = np.zeros((4, 5))\n",
        "S[np.diag_indices(4)] = S_diag\n",
        "S"
      ],
      "execution_count": 29,
      "outputs": [
        {
          "output_type": "execute_result",
          "data": {
            "text/plain": [
              "array([[3.        , 0.        , 0.        , 0.        , 0.        ],\n",
              "       [0.        , 2.23606798, 0.        , 0.        , 0.        ],\n",
              "       [0.        , 0.        , 2.        , 0.        , 0.        ],\n",
              "       [0.        , 0.        , 0.        , 0.        , 0.        ]])"
            ]
          },
          "metadata": {
            "tags": []
          },
          "execution_count": 29
        }
      ]
    },
    {
      "cell_type": "code",
      "metadata": {
        "colab": {
          "base_uri": "https://localhost:8080/"
        },
        "id": "3ubp___z8LdZ",
        "outputId": "b4c62584-cf0e-41f3-9dd3-fd16230b0ecc"
      },
      "source": [
        "V"
      ],
      "execution_count": 30,
      "outputs": [
        {
          "output_type": "execute_result",
          "data": {
            "text/plain": [
              "array([[-0.        ,  0.        ,  1.        , -0.        ,  0.        ],\n",
              "       [ 0.4472136 ,  0.        ,  0.        ,  0.        ,  0.89442719],\n",
              "       [-0.        ,  1.        ,  0.        , -0.        ,  0.        ],\n",
              "       [ 0.        ,  0.        ,  0.        ,  1.        ,  0.        ],\n",
              "       [-0.89442719,  0.        ,  0.        ,  0.        ,  0.4472136 ]])"
            ]
          },
          "metadata": {
            "tags": []
          },
          "execution_count": 30
        }
      ]
    },
    {
      "cell_type": "code",
      "metadata": {
        "colab": {
          "base_uri": "https://localhost:8080/"
        },
        "id": "iAm1I9xt8dPm",
        "outputId": "b66a14fd-c569-45c9-9a08-9c770a52bb65"
      },
      "source": [
        "# U.Σ.V == m4\n",
        "U.dot(S).dot(V)"
      ],
      "execution_count": 31,
      "outputs": [
        {
          "output_type": "execute_result",
          "data": {
            "text/plain": [
              "array([[1., 0., 0., 0., 2.],\n",
              "       [0., 0., 3., 0., 0.],\n",
              "       [0., 0., 0., 0., 0.],\n",
              "       [0., 2., 0., 0., 0.]])"
            ]
          },
          "metadata": {
            "tags": []
          },
          "execution_count": 31
        }
      ]
    },
    {
      "cell_type": "markdown",
      "metadata": {
        "id": "PKXc1ewA8rYH"
      },
      "source": [
        "### 대각원소와 대각합"
      ]
    },
    {
      "cell_type": "code",
      "metadata": {
        "colab": {
          "base_uri": "https://localhost:8080/"
        },
        "id": "96OkKuGD8p0P",
        "outputId": "49303205-004d-49f9-b74b-169c04d72443"
      },
      "source": [
        "# m3의 대각 원소\n",
        "np.diag(m3)"
      ],
      "execution_count": 32,
      "outputs": [
        {
          "output_type": "execute_result",
          "data": {
            "text/plain": [
              "array([ 1,  7, 31])"
            ]
          },
          "metadata": {
            "tags": []
          },
          "execution_count": 32
        }
      ]
    },
    {
      "cell_type": "code",
      "metadata": {
        "colab": {
          "base_uri": "https://localhost:8080/"
        },
        "id": "Qh6stqON8zx8",
        "outputId": "786825fa-81d2-43b0-ba56-0f0f7a39f337"
      },
      "source": [
        "# np.diag(m3).sum()\n",
        "np.trace(m3)"
      ],
      "execution_count": 33,
      "outputs": [
        {
          "output_type": "execute_result",
          "data": {
            "text/plain": [
              "39"
            ]
          },
          "metadata": {
            "tags": []
          },
          "execution_count": 33
        }
      ]
    },
    {
      "cell_type": "markdown",
      "metadata": {
        "id": "BhEc1jMn86rb"
      },
      "source": [
        "### 선형 방정식 풀기"
      ]
    },
    {
      "cell_type": "code",
      "metadata": {
        "colab": {
          "base_uri": "https://localhost:8080/"
        },
        "id": "mu_dszc184uh",
        "outputId": "b3e608b0-b61f-43a4-8228-baf0d5fd6639"
      },
      "source": [
        "# solve 함수는 다음과 같은 선형 방정식을 푼다.\n",
        "# 2x + 6y = 6\n",
        "# 5x + 3y = -9\n",
        "coeffs = np.array([[2, 6], [5, 3]])\n",
        "depvars = np.array([6, -9])\n",
        "solution = linalg.solve(coeffs, depvars)\n",
        "solution"
      ],
      "execution_count": 35,
      "outputs": [
        {
          "output_type": "execute_result",
          "data": {
            "text/plain": [
              "array([-3.,  2.])"
            ]
          },
          "metadata": {
            "tags": []
          },
          "execution_count": 35
        }
      ]
    },
    {
      "cell_type": "code",
      "metadata": {
        "colab": {
          "base_uri": "https://localhost:8080/"
        },
        "id": "DVfseF_O9Ur1",
        "outputId": "067e6719-14ec-48f1-8cef-8b4d04ae540b"
      },
      "source": [
        "coeffs.dot(solution), depvars"
      ],
      "execution_count": 36,
      "outputs": [
        {
          "output_type": "execute_result",
          "data": {
            "text/plain": [
              "(array([ 6., -9.]), array([ 6, -9]))"
            ]
          },
          "metadata": {
            "tags": []
          },
          "execution_count": 36
        }
      ]
    },
    {
      "cell_type": "code",
      "metadata": {
        "colab": {
          "base_uri": "https://localhost:8080/"
        },
        "id": "5_qb5pIg9cxj",
        "outputId": "d362563b-4a76-4eac-cacb-b89bea86c1d0"
      },
      "source": [
        "np.allclose(coeffs.dot(solution), depvars)"
      ],
      "execution_count": 37,
      "outputs": [
        {
          "output_type": "execute_result",
          "data": {
            "text/plain": [
              "True"
            ]
          },
          "metadata": {
            "tags": []
          },
          "execution_count": 37
        }
      ]
    }
  ]
}